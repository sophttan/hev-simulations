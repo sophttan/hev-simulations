{
 "cells": [
  {
   "cell_type": "code",
   "execution_count": 1,
   "id": "38e6257a-2529-47b5-afe0-85dcca43d179",
   "metadata": {
    "tags": []
   },
   "outputs": [],
   "source": [
    "# Import libraries.\n",
    "import numpy as np\n",
    "import pymc as pm\n",
    "\n",
    "from scipy import stats\n",
    "from scipy import integrate, optimize\n",
    "\n",
    "import matplotlib.pyplot as plt"
   ]
  },
  {
   "cell_type": "code",
   "execution_count": 2,
   "id": "95c0b95d-6632-4d89-a0de-60abeab7193d",
   "metadata": {
    "tags": []
   },
   "outputs": [],
   "source": [
    "# British boarding school flu data\n",
    "t_obs = np.arange(15)\n",
    "I_obs = np.array([1, 3, 6, 25, 73, 222, 294, 258, 237, 191, 125, 69, 27, 11, 4])\n",
    "\n",
    "N = 764\n",
    "S_0 = 763\n",
    "I_0 = 1\n",
    "R_0 = 0"
   ]
  },
  {
   "cell_type": "code",
   "execution_count": 3,
   "id": "16426cc5-7409-4060-bd10-a6eac8375e77",
   "metadata": {
    "tags": []
   },
   "outputs": [],
   "source": [
    "# SIR ODEs\n",
    "\n",
    "# Defines the system of differential equations\n",
    "# for the SIR model.\n",
    "def sir(sir, t, beta, nu):\n",
    "    S, I, R = sir\n",
    "    dSdt = -beta * S * I / N\n",
    "    dIdt = beta * S * I / N - nu * I\n",
    "    dRdt = nu * I\n",
    "    return dSdt, dIdt, dRdt\n",
    "\n",
    "# Returns the infected data for the SIR model with \n",
    "# inputted parameters beta and nu.\n",
    "def fit_odeint(t, beta, nu):\n",
    "    fit = integrate.odeint(sir, (S_0, I_0, R_0), t_obs, args = (beta, nu))\n",
    "    return fit[:, 1]"
   ]
  },
  {
   "cell_type": "code",
   "execution_count": 4,
   "id": "2f0a5520-4569-4a30-a392-e1055e3d2d4b",
   "metadata": {
    "tags": []
   },
   "outputs": [],
   "source": [
    "# Solve for the optimal values via curve-fitting\n",
    "curv_opt, cov = optimize.curve_fit(fit_odeint, t_obs, I_obs)"
   ]
  },
  {
   "cell_type": "code",
   "execution_count": 5,
   "id": "9f15cc84-bc1c-4ecf-9596-04abc5f4b17b",
   "metadata": {},
   "outputs": [],
   "source": [
    "# Create likelihood, prior, and posterior\n",
    "def likelihood(state):\n",
    "    beta, nu = state\n",
    "    I_fit = fit_odeint(t_obs, beta, nu)\n",
    "    \n",
    "    # Poisson likelihood\n",
    "    #lik = stats.poisson.logpmf(I_obs, I_fit).sum()\n",
    "    \n",
    "    # L1 score likelihood\n",
    "    #lik = -np.log(np.mean(abs(I_fit - I_obs)))\n",
    "    \n",
    "    # L2 score likelihood\n",
    "    lik = -np.log(np.mean((I_fit - I_obs)**2))\n",
    "    \n",
    "    return lik\n",
    "\n",
    "def prior(state):\n",
    "    beta, nu = state\n",
    "    return stats.norm.logpdf(beta, 1.5, 0.25) + stats.norm.logpdf(nu, 0.5, 0.1)\n",
    "\n",
    "def posterior(state):\n",
    "    return likelihood(state) + prior(state)"
   ]
  },
  {
   "cell_type": "code",
   "execution_count": 6,
   "id": "ac3e3027-8c2d-4fe0-967b-7455a888e4fb",
   "metadata": {
    "tags": []
   },
   "outputs": [],
   "source": [
    "# Metropolis algorithm\n",
    "\n",
    "# Proposal function\n",
    "def q(state):\n",
    "    return stats.norm.rvs(state, [0.1, 0.1], size = 2)\n",
    "\n",
    "# MCMC\n",
    "def metropolis(start, num_iter):\n",
    "    best = np.zeros(2)\n",
    "    best_lik = -np.inf\n",
    "    \n",
    "    chain = np.zeros((num_iter + 1, 2))\n",
    "    chain[0] = start\n",
    "    for i in range(num_iter):\n",
    "        lik = likelihood(chain[i])\n",
    "        if lik > best_lik:\n",
    "            best = chain[i]\n",
    "            best_lik = lik\n",
    "        if i % 100 == 0:\n",
    "            print(np.round(chain[i], 3), '\\t', np.round(likelihood(chain[i]), 3))\n",
    "        proposal = q(chain[i])\n",
    "        p = np.exp(posterior(proposal) - posterior(chain[i]))\n",
    "        if stats.uniform.rvs() < p:\n",
    "            chain[i + 1] = proposal\n",
    "        else:\n",
    "            chain[i + 1] = chain[i]\n",
    "    return chain, best"
   ]
  },
  {
   "cell_type": "code",
   "execution_count": 7,
   "id": "bc8b2d1c-917b-4f40-a54f-6761feb80c73",
   "metadata": {
    "scrolled": true,
    "tags": []
   },
   "outputs": [
    {
     "name": "stdout",
     "output_type": "stream",
     "text": [
      "[1.  0.1] \t -11.13\n",
      "[1.654 0.437] \t -5.73\n",
      "[1.772 0.418] \t -6.915\n",
      "[1.387 0.362] \t -8.27\n",
      "[1.648 0.446] \t -5.743\n",
      "[1.697 0.487] \t -6.099\n",
      "[1.736 0.439] \t -6.287\n",
      "[1.398 0.457] \t -8.261\n",
      "[1.296 0.528] \t -9.087\n",
      "[1.623 0.516] \t -6.907\n",
      "[1.768 0.458] \t -6.527\n",
      "[1.625 0.465] \t -6.112\n",
      "[1.488 0.497] \t -7.824\n",
      "[1.549 0.506] \t -7.395\n",
      "[1.461 0.57 ] \t -8.492\n",
      "[1.824 0.487] \t -7.023\n",
      "[1.69  0.484] \t -6.056\n",
      "[1.751 0.516] \t -6.614\n",
      "[1.811 0.526] \t -7.014\n",
      "[1.516 0.55 ] \t -8.047\n",
      "[1.745 0.497] \t -6.401\n",
      "[1.8   0.625] \t -7.657\n",
      "[1.628 0.486] \t -6.406\n",
      "[1.694 0.392] \t -6.674\n",
      "[1.801 0.343] \t -8.073\n",
      "[1.731 0.455] \t -6.136\n",
      "[1.575 0.429] \t -6.419\n",
      "[1.712 0.551] \t -6.993\n",
      "[1.765 0.548] \t -6.981\n",
      "[1.664 0.509] \t -6.53\n",
      "[1.768 0.503] \t -6.605\n",
      "[1.492 0.593] \t -8.472\n",
      "[1.627 0.59 ] \t -7.758\n",
      "[1.436 0.676] \t -9.1\n",
      "[1.776 0.593] \t -7.407\n",
      "[1.656 0.449] \t -5.721\n",
      "[1.564 0.612] \t -8.252\n",
      "[1.63  0.473] \t -6.167\n",
      "[1.667 0.437] \t -5.736\n",
      "[1.288 0.56 ] \t -9.219\n",
      "[1.887 0.384] \t -8.069\n",
      "[1.764 0.441] \t -6.591\n",
      "[1.615 0.45 ] \t -6.037\n",
      "[1.635 0.441] \t -5.809\n",
      "[1.584 0.535] \t -7.437\n",
      "[1.6   0.533] \t -7.307\n",
      "[1.875 0.588] \t -7.607\n",
      "[1.63  0.421] \t -5.938\n",
      "[1.581 0.527] \t -7.374\n",
      "[1.651 0.492] \t -6.319\n",
      "[1.671 0.442] \t -5.718\n",
      "[1.57  0.489] \t -7.016\n",
      "[1.795 0.413] \t -7.178\n",
      "[1.693 0.527] \t -6.705\n",
      "[1.701 0.426] \t -6.083\n",
      "[1.381 0.56 ] \t -8.835\n",
      "[1.417 0.437] \t -8.053\n",
      "[1.584 0.425] \t -6.316\n",
      "[1.719 0.472] \t -6.046\n",
      "[1.343 0.381] \t -8.494\n",
      "[1.744 0.512] \t -6.54\n",
      "[1.732 0.711] \t -8.312\n",
      "[1.598 0.544] \t -7.447\n",
      "[1.79 0.51] \t -6.797\n",
      "[1.493 0.556] \t -8.23\n",
      "[1.655 0.421] \t -5.894\n",
      "[1.667 0.407] \t -6.193\n",
      "[1.803 0.545] \t -7.084\n",
      "[1.67  0.415] \t -6.055\n",
      "[1.554 0.269] \t -8.762\n",
      "[1.206 0.386] \t -9.19\n",
      "[1.693 0.471] \t -5.895\n",
      "[1.787 0.462] \t -6.715\n",
      "[1.237 0.529] \t -9.313\n",
      "[1.399 0.513] \t -8.524\n",
      "[1.474 0.55 ] \t -8.296\n",
      "[1.69  0.536] \t -6.842\n",
      "[2.099 0.437] \t -8.733\n",
      "[1.612 0.46 ] \t -6.174\n",
      "[1.494 0.516] \t -7.928\n",
      "[1.835 0.538] \t -7.211\n",
      "[1.754 0.444] \t -6.453\n",
      "[1.426 0.551] \t -8.573\n",
      "[1.603 0.451] \t -6.188\n",
      "[0.923 0.525] \t -9.844\n",
      "[1.639 0.395] \t -6.393\n",
      "[1.674 0.505] \t -6.423\n",
      "[1.467 0.422] \t -7.579\n",
      "[1.84  0.652] \t -7.855\n",
      "[1.635 0.45 ] \t -5.85\n",
      "[1.671 0.476] \t -5.952\n",
      "[1.596 0.429] \t -6.174\n",
      "[1.557 0.431] \t -6.641\n",
      "[1.495 0.479] \t -7.629\n",
      "[2.015 0.405] \t -8.534\n",
      "[1.587 0.595] \t -8.01\n",
      "[1.573 0.395] \t -6.648\n",
      "[1.454 0.445] \t -7.776\n",
      "[1.635 0.445] \t -5.813\n",
      "[1.441 0.432] \t -7.837\n"
     ]
    }
   ],
   "source": [
    "# Solve for optimal values via MCMC\n",
    "chain, best = metropolis([1, 0.1], 10000)\n",
    "mcmc_opt = best"
   ]
  },
  {
   "cell_type": "code",
   "execution_count": 8,
   "id": "a8337c34-bb9b-4d54-94e2-f7a9bb4e0506",
   "metadata": {
    "tags": []
   },
   "outputs": [
    {
     "name": "stdout",
     "output_type": "stream",
     "text": [
      "Curve-fitting:\t [1.66427741 0.44582665]\n",
      "Metropolis:\t [1.66470569 0.44657423]\n"
     ]
    }
   ],
   "source": [
    "print('Curve-fitting:\\t', curv_opt)\n",
    "print('Metropolis:\\t', mcmc_opt)"
   ]
  }
 ],
 "metadata": {
  "kernelspec": {
   "display_name": "Python 3 (ipykernel)",
   "language": "python",
   "name": "python3"
  },
  "language_info": {
   "codemirror_mode": {
    "name": "ipython",
    "version": 3
   },
   "file_extension": ".py",
   "mimetype": "text/x-python",
   "name": "python",
   "nbconvert_exporter": "python",
   "pygments_lexer": "ipython3",
   "version": "3.8.12"
  }
 },
 "nbformat": 4,
 "nbformat_minor": 5
}
