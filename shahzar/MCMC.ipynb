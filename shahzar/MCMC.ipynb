{
 "cells": [
  {
   "cell_type": "code",
   "execution_count": 1,
   "id": "38e6257a-2529-47b5-afe0-85dcca43d179",
   "metadata": {
    "tags": []
   },
   "outputs": [],
   "source": [
    "# Import libraries.\n",
    "import numpy as np\n",
    "import pymc as pm\n",
    "\n",
    "from scipy import stats\n",
    "from scipy import integrate, optimize\n",
    "\n",
    "import matplotlib.pyplot as plt"
   ]
  },
  {
   "cell_type": "code",
   "execution_count": 2,
   "id": "95c0b95d-6632-4d89-a0de-60abeab7193d",
   "metadata": {
    "tags": []
   },
   "outputs": [],
   "source": [
    "# British boarding school flu data\n",
    "t_obs = np.arange(15)\n",
    "I_obs = np.array([1, 3, 6, 25, 73, 222, 294, 258, 237, 191, 125, 69, 27, 11, 4])\n",
    "\n",
    "N = 764\n",
    "S_0 = 763\n",
    "I_0 = 1\n",
    "R_0 = 0"
   ]
  },
  {
   "cell_type": "code",
   "execution_count": 3,
   "id": "16426cc5-7409-4060-bd10-a6eac8375e77",
   "metadata": {
    "tags": []
   },
   "outputs": [],
   "source": [
    "# SIR ODEs\n",
    "\n",
    "# Defines the system of differential equations\n",
    "# for the SIR model.\n",
    "def sir(sir, t, beta, nu):\n",
    "    S, I, R = sir\n",
    "    dSdt = -beta * S * I / N\n",
    "    dIdt = beta * S * I / N - nu * I\n",
    "    dRdt = nu * I\n",
    "    return dSdt, dIdt, dRdt\n",
    "\n",
    "# Returns the infected data for the SIR model with \n",
    "# inputted parameters beta and nu.\n",
    "def fit_odeint(t, beta, nu):\n",
    "    fit = integrate.odeint(sir, (S_0, I_0, R_0), t_obs, args = (beta, nu))\n",
    "    return fit[:, 1]"
   ]
  },
  {
   "cell_type": "code",
   "execution_count": 4,
   "id": "2f0a5520-4569-4a30-a392-e1055e3d2d4b",
   "metadata": {
    "tags": []
   },
   "outputs": [],
   "source": [
    "# Solve for the optimal values via curve-fitting\n",
    "curv_opt, cov = optimize.curve_fit(fit_odeint, t_obs, I_obs)"
   ]
  },
  {
   "cell_type": "code",
   "execution_count": 5,
   "id": "9f15cc84-bc1c-4ecf-9596-04abc5f4b17b",
   "metadata": {},
   "outputs": [],
   "source": [
    "# Create likelihood, prior, and posterior\n",
    "def likelihood(state):\n",
    "    beta, nu = state\n",
    "    I_fit = fit_odeint(t_obs, beta, nu)\n",
    "    lik = stats.poisson.logpmf(I_obs, I_fit).sum()\n",
    "    return lik\n",
    "\n",
    "def prior(state):\n",
    "    beta, nu = state\n",
    "    return stats.norm.logpdf(beta, 1.5, 0.25) + stats.norm.logpdf(nu, 0.5, 0.1)\n",
    "\n",
    "def posterior(state):\n",
    "    return likelihood(state) + prior(state)"
   ]
  },
  {
   "cell_type": "code",
   "execution_count": 6,
   "id": "ac3e3027-8c2d-4fe0-967b-7455a888e4fb",
   "metadata": {
    "tags": []
   },
   "outputs": [],
   "source": [
    "# Metropolis algorithm\n",
    "\n",
    "# Proposal function\n",
    "def q(state):\n",
    "    return stats.norm.rvs(state, [0.1, 0.1], size = 2)\n",
    "\n",
    "# MCMC\n",
    "def metropolis(start, num_iter):\n",
    "    chain = np.zeros((num_iter + 1, 2))\n",
    "    chain[0] = start\n",
    "    \n",
    "    for i in range(num_iter):\n",
    "        if i % 100 == 0:\n",
    "            print(np.round(chain[i], 3), '\\t', np.round(likelihood(chain[i]), 3))\n",
    "        proposal = q(chain[i])\n",
    "        p = np.exp(posterior(proposal) - posterior(chain[i]))\n",
    "        if stats.uniform.rvs() < p:\n",
    "            chain[i + 1] = proposal\n",
    "        else:\n",
    "            chain[i + 1] = chain[i]\n",
    "    return chain"
   ]
  },
  {
   "cell_type": "code",
   "execution_count": 7,
   "id": "bc8b2d1c-917b-4f40-a54f-6761feb80c73",
   "metadata": {
    "scrolled": true,
    "tags": []
   },
   "outputs": [
    {
     "name": "stdout",
     "output_type": "stream",
     "text": [
      "[1.  0.1] \t -1979.049\n",
      "[1.673 0.489] \t -83.234\n",
      "[1.698 0.495] \t -83.049\n",
      "[1.7   0.493] \t -82.906\n",
      "[1.706 0.485] \t -82.997\n",
      "[1.667 0.483] \t -83.345\n",
      "[1.665 0.471] \t -83.51\n",
      "[1.707 0.479] \t -83.233\n",
      "[1.713 0.491] \t -83.757\n",
      "[1.654 0.452] \t -86.986\n",
      "[1.676 0.472] \t -82.732\n",
      "[1.691 0.5  ] \t -83.686\n",
      "[1.664 0.475] \t -83.411\n",
      "[1.705 0.484] \t -82.922\n",
      "[1.705 0.467] \t -84.356\n",
      "[1.678 0.48 ] \t -82.438\n",
      "[1.678 0.48 ] \t -82.438\n",
      "[1.678 0.48 ] \t -82.438\n",
      "[1.682 0.473] \t -82.544\n",
      "[1.682 0.473] \t -82.544\n",
      "[1.682 0.473] \t -82.544\n",
      "[1.71  0.485] \t -83.346\n",
      "[1.673 0.478] \t -82.689\n",
      "[1.656 0.477] \t -84.403\n",
      "[1.692 0.496] \t -83.135\n",
      "[1.675 0.476] \t -82.602\n",
      "[1.673 0.483] \t -82.8\n",
      "[1.705 0.487] \t -82.937\n",
      "[1.698 0.488] \t -82.548\n",
      "[1.682 0.476] \t -82.361\n"
     ]
    }
   ],
   "source": [
    "# Solve for optimal values via MCMC\n",
    "chain = metropolis([1, 0.1], 3000)\n",
    "mcmc_opt = chain[-1, :]"
   ]
  },
  {
   "cell_type": "code",
   "execution_count": 8,
   "id": "a8337c34-bb9b-4d54-94e2-f7a9bb4e0506",
   "metadata": {
    "tags": []
   },
   "outputs": [
    {
     "name": "stdout",
     "output_type": "stream",
     "text": [
      "Curve-fitting:\t [1.66427741 0.44582665]\n",
      "Metropolis:\t [1.68223192 0.47617593]\n"
     ]
    }
   ],
   "source": [
    "print('Curve-fitting:\\t', curv_opt)\n",
    "print('Metropolis:\\t', mcmc_opt)"
   ]
  }
 ],
 "metadata": {
  "kernelspec": {
   "display_name": "Python 3 (ipykernel)",
   "language": "python",
   "name": "python3"
  },
  "language_info": {
   "codemirror_mode": {
    "name": "ipython",
    "version": 3
   },
   "file_extension": ".py",
   "mimetype": "text/x-python",
   "name": "python",
   "nbconvert_exporter": "python",
   "pygments_lexer": "ipython3",
   "version": "3.11.0"
  }
 },
 "nbformat": 4,
 "nbformat_minor": 5
}
