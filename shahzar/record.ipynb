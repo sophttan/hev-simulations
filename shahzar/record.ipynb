{
 "cells": [
  {
   "cell_type": "code",
   "execution_count": 1,
   "id": "08c10f3a-8443-4ac6-bfef-82deebb23976",
   "metadata": {},
   "outputs": [],
   "source": [
    "import numpy as np\n",
    "import pandas as pd\n",
    "from scipy import stats\n",
    "\n",
    "from matplotlib import pyplot as plt\n",
    "from matplotlib.patches import Patch"
   ]
  },
  {
   "cell_type": "code",
   "execution_count": 2,
   "id": "ff9692bc-1601-4aac-9307-cdafb9130c82",
   "metadata": {},
   "outputs": [],
   "source": [
    "time = 365\n",
    "inc = 28\n",
    "inf = 7"
   ]
  },
  {
   "cell_type": "code",
   "execution_count": 3,
   "id": "fa9a0a4c-93be-4165-a860-7795e41147f3",
   "metadata": {
    "tags": []
   },
   "outputs": [],
   "source": [
    "def create_hh():\n",
    "    hh_size = np.random.choice([3, 4, 5, 6], size = 340, replace = True)\n",
    "    hh_size = hh_size[np.cumsum(hh_size) < 1000]\n",
    "    \n",
    "    leftover = 1000 - hh_size.sum()\n",
    "    if leftover < 3:\n",
    "        # Randomly sample leftover amount indices from hh_size, and add one\n",
    "        hh = np.arange(len(hh_size))\n",
    "        idx = np.random.choice(hh[hh_size < 6], size = leftover, replace = False)\n",
    "        hh_size[idx] += 1\n",
    "    else:\n",
    "        hh_size = np.append(hh_size, leftover)\n",
    "    return hh_size"
   ]
  },
  {
   "cell_type": "code",
   "execution_count": 4,
   "id": "73d77397-ddab-4163-b844-94f47999be70",
   "metadata": {},
   "outputs": [],
   "source": [
    "def SEIR(beta_H, beta_C, inc, inf):\n",
    "    hh_size = create_hh()\n",
    "    \n",
    "    data = pd.DataFrame({'ID': range(1000),\n",
    "                         'SIZE': np.repeat(hh_size, repeats = hh_size),\n",
    "                         'HH': np.repeat(range(len(hh_size)), repeats = hh_size),\n",
    "                         'S': np.append(0, np.ones(999)),\n",
    "                         'E': np.append(1, np.zeros(999)),\n",
    "                         'E_count': np.append(1, np.zeros(999)),\n",
    "                         'I': np.zeros(1000),\n",
    "                         'I_count': np.zeros(1000),\n",
    "                         'R': np.zeros(1000),\n",
    "                         'INC': np.append(np.round(stats.norm.rvs(inc, 2)), np.zeros(999)),\n",
    "                         'INF': np.zeros(1000)\n",
    "                        })\n",
    "    \n",
    "    results = data.loc[:, 'ID':'HH']\n",
    "    results['TYPE'] = np.nan\n",
    "    results.loc[0, 'TYPE'] = '0'\n",
    "    results['TIME'] = np.nan\n",
    "    results.loc[0, 'TIME'] = 0\n",
    "    \n",
    "    for t in range(time):\n",
    "        if t % 10 == 0: print(t, end = ' ')\n",
    "        recovered = (data['INF'] > 0) & (data['I_count'] == data['INF'])\n",
    "        if sum(recovered) > 0:\n",
    "            data.loc[recovered, 'R'] = 1\n",
    "            data.loc[recovered, 'I'] = 0\n",
    "\n",
    "            # Why is this count set to 0 once they recover?\n",
    "            data.loc[recovered, 'I_count'] = 0\n",
    "\n",
    "        new_inf = (data['INC'] > 0) & (data['E_count'] == data['INC'])\n",
    "        num_new_inf = sum(new_inf)\n",
    "\n",
    "        if num_new_inf > 0:\n",
    "            # Why do new infections have SD = 1?\n",
    "            random_inf = np.round(stats.norm.rvs(inf, 1, size = num_new_inf))\n",
    "            data.loc[new_inf, 'I'] = 1\n",
    "            data.loc[new_inf, 'INF'] = random_inf\n",
    "            data.loc[new_inf, 'E'] = 0\n",
    "\n",
    "            # Why is this set to 0?\n",
    "            data.loc[new_inf, 'E_count'] = 0\n",
    "\n",
    "        I_H = data.groupby('HH').sum()['I']\n",
    "        summary = pd.DataFrame({'I_H': I_H, \n",
    "                                'I_C': data.sum()['I'] - I_H\n",
    "                               })\n",
    "        dd = data[['HH', 'S']].copy()\n",
    "\n",
    "        dd['I_H'] = dd.apply(lambda x: summary.loc[x['HH'], 'I_H'], axis = 1)\n",
    "        dd['I_C'] = dd.apply(lambda x: summary.loc[x['HH'], 'I_C'], axis = 1)\n",
    "\n",
    "        risk_H = dd['S'] * beta_H * dd['I_H'] / 1000\n",
    "        risk_C = dd['S'] * beta_C * dd['I_C'] / 1000\n",
    "\n",
    "        new_inf_H = stats.binom.rvs(1, risk_H, size = data.shape[0])\n",
    "        new_inf_C = stats.binom.rvs(1, risk_C, size = data.shape[0])\n",
    "        new_exposed = (new_inf_H == 1) | (new_inf_C == 1)\n",
    "\n",
    "        num_new_exposed = sum(new_exposed)\n",
    "        if num_new_exposed > 0:\n",
    "            data.loc[new_exposed, 'E'] = 1\n",
    "            # Why is this calculated only upon exposure?\n",
    "            random_inc = np.round(stats.norm.rvs(inc, 2, size = num_new_exposed))\n",
    "            data.loc[new_exposed, 'E'] = 1\n",
    "            data.loc[new_exposed, 'INC'] = random_inc\n",
    "\n",
    "            results['TYPE'].where(~((new_inf_H == 1) & (new_inf_C == 1)) | ~pd.isna(results['TYPE']), 'B', inplace = True)\n",
    "            results['TYPE'].where(~(new_inf_H == 1) | ~pd.isna(results['TYPE']), 'H', inplace = True)\n",
    "            results['TYPE'].where(~(new_inf_C == 1) | ~pd.isna(results['TYPE']), 'C', inplace = True)\n",
    "            results['TIME'].where(~(new_exposed == 1) | ~pd.isna(results['TIME']), t, inplace = True)\n",
    "        \n",
    "        data.loc[data['E'] == 1, 'E_count'] += 1\n",
    "        data.loc[data['I'] == 1, 'I_count'] += 1\n",
    "        data.loc[data['E'] == 1, 'S'] = 0\n",
    "\n",
    "    return results\n",
    "        "
   ]
  },
  {
   "cell_type": "code",
   "execution_count": 5,
   "id": "38af34c5-2ed4-4f91-9796-c31762bd356b",
   "metadata": {},
   "outputs": [],
   "source": [
    "def metrics(results):\n",
    "    state = results[~pd.isna(results['TIME'])]\n",
    "    incidence = state.shape[0]/1000\n",
    "    \n",
    "    prop_hh = np.nan\n",
    "    if incidence != 0:\n",
    "        prop_hh = state[state['TYPE'] == 'H'].shape[0] / state.shape[0]\n",
    "    \n",
    "    return incidence, prop_hh"
   ]
  },
  {
   "cell_type": "code",
   "execution_count": 6,
   "id": "d509be79-d278-4ab0-923e-221f62e231d1",
   "metadata": {},
   "outputs": [],
   "source": [
    "def mse(results, target):\n",
    "    return ((np.array(metrics(results)) - target)**2).sum()\n",
    "\n",
    "def bce(results, target):\n",
    "    incidence, prop_hh = metrics(results)\n",
    "    \n",
    "    incidence_loss = target[0] * np.log(incidence + eps) + (1 - target[0]) * np.log(1 - incidence + eps)\n",
    "    prop_hh_loss = target[1] * np.log(prop_hh + eps) + (1 - target[1]) * np.log(1 - prop_hh + eps)\n",
    "    return incidence_loss + prop_hh_loss"
   ]
  },
  {
   "cell_type": "markdown",
   "id": "25e542bf-f32e-469f-a9b6-c7e9a8a60557",
   "metadata": {
    "jp-MarkdownHeadingCollapsed": true,
    "tags": []
   },
   "source": [
    "# 10 February"
   ]
  },
  {
   "cell_type": "code",
   "execution_count": null,
   "id": "a9be3031-ac13-4cd9-85dc-d2e5a35decef",
   "metadata": {},
   "outputs": [],
   "source": [
    "idcs = np.load('results/archive/idcs_3.npy')\n",
    "prps = np.load('results/archive/prps_3.npy')\n",
    "\n",
    "beta_C_vals = np.load('results/archive/beta_C_vals_3.npy')\n",
    "beta_H_vals = np.load('results/archive/beta_H_vals_3.npy')\n",
    "cc, hh = np.meshgrid(beta_C_vals, beta_H_vals)"
   ]
  },
  {
   "cell_type": "code",
   "execution_count": null,
   "id": "4b858666-7593-4b00-82ca-05f81d5efa4b",
   "metadata": {},
   "outputs": [],
   "source": [
    "fig, axs = plt.subplots(1, 2, figsize = (9.5, 3.5))\n",
    "\n",
    "plot_hh = axs[0].scatter(idcs.flatten(), prps.flatten(), c = hh.flatten(), alpha = 0.5)\n",
    "axs[0].set_xlabel(r'$I$')\n",
    "axs[0].set_ylabel(r'$p_{\\rm HH}$')\n",
    "plt.colorbar(plot_hh, ax = axs[0])\n",
    "\n",
    "axs[0].scatter(0.05, 0.25, marker = 'x', c = 'red', s = 100)\n",
    "axs[0].scatter(0.05, 0.5, marker = 'x', c = 'red', s = 100)\n",
    "axs[0].scatter(0.05, 0.75, marker = 'x', c = 'red', s = 100)\n",
    "\n",
    "axs[0].scatter(0.1, 0.25, marker = 'x', c = 'red', s = 100)\n",
    "axs[0].scatter(0.1, 0.5, marker = 'x', c = 'red', s = 100)\n",
    "axs[0].scatter(0.1, 0.75, marker = 'x', c = 'red', s = 100)\n",
    "\n",
    "axs[0].scatter(0.3, 0.25, marker = 'x', c = 'red', s = 100)\n",
    "axs[0].scatter(0.3, 0.5, marker = 'x', c = 'red', s = 100)\n",
    "axs[0].scatter(0.3, 0.75, marker = 'x', c = 'red', s = 100)\n",
    "axs[0].set_title(r'$\\beta_H$', loc = 'left')\n",
    "\n",
    "plot_cc = axs[1].scatter(idcs.flatten(), prps.flatten(), c = cc.flatten(), alpha = 0.5)\n",
    "axs[1].set_xlabel(r'$I$')\n",
    "axs[1].set_ylabel(r'$p_{\\rm HH}$')\n",
    "plt.colorbar(plot_cc, ax = axs[1])\n",
    "\n",
    "axs[1].scatter(0.05, 0.25, marker = 'x', c = 'red', s = 100)\n",
    "axs[1].scatter(0.05, 0.5, marker = 'x', c = 'red', s = 100)\n",
    "axs[1].scatter(0.05, 0.75, marker = 'x', c = 'red', s = 100)\n",
    "\n",
    "axs[1].scatter(0.1, 0.25, marker = 'x', c = 'red', s = 100)\n",
    "axs[1].scatter(0.1, 0.5, marker = 'x', c = 'red', s = 100)\n",
    "axs[1].scatter(0.1, 0.75, marker = 'x', c = 'red', s = 100)\n",
    "\n",
    "axs[1].scatter(0.3, 0.25, marker = 'x', c = 'red', s = 100)\n",
    "axs[1].scatter(0.3, 0.5, marker = 'x', c = 'red', s = 100)\n",
    "axs[1].scatter(0.3, 0.75, marker = 'x', c = 'red', s = 100)\n",
    "axs[1].set_title(r'$\\beta_C$', loc = 'left')\n",
    "\n",
    "plt.savefig('plots/prp_vs_inc_1.png', transparent = True, dpi = 300)"
   ]
  },
  {
   "cell_type": "code",
   "execution_count": null,
   "id": "c584f58d-9e7b-48a2-9678-687e5b77c689",
   "metadata": {},
   "outputs": [],
   "source": [
    "idx = (idcs >= 0.09) & (idcs <= 0.11) & (prps >= 0.2) & (prps <= 0.3)"
   ]
  },
  {
   "cell_type": "code",
   "execution_count": null,
   "id": "29612a36-ba71-4d36-bdca-c8c06ccfbe9f",
   "metadata": {},
   "outputs": [],
   "source": [
    "hh[idx], cc[idx]"
   ]
  },
  {
   "cell_type": "code",
   "execution_count": null,
   "id": "b10cddcd-46f4-499d-80de-694322ff33c2",
   "metadata": {},
   "outputs": [],
   "source": [
    "hh"
   ]
  },
  {
   "cell_type": "code",
   "execution_count": null,
   "id": "83ee2905-f8de-489f-b40c-35052a597dbf",
   "metadata": {},
   "outputs": [],
   "source": [
    "cc"
   ]
  },
  {
   "cell_type": "code",
   "execution_count": null,
   "id": "e0b54308-42a9-4d0d-af62-46aab153f6fd",
   "metadata": {},
   "outputs": [],
   "source": [
    "results = SEIR(23.8, 0.22, num_weeks_inf, num_weeks_inc)"
   ]
  },
  {
   "cell_type": "code",
   "execution_count": null,
   "id": "42aed7e9-dc75-4eed-8ad3-f412f3dc1bf2",
   "metadata": {},
   "outputs": [],
   "source": [
    "metrics(results)"
   ]
  },
  {
   "cell_type": "markdown",
   "id": "8139042a-1fb5-438a-8a96-95af81c6494e",
   "metadata": {},
   "source": [
    "## More Results"
   ]
  },
  {
   "cell_type": "code",
   "execution_count": null,
   "id": "12ec1300-dc31-4378-8450-73893476d396",
   "metadata": {},
   "outputs": [],
   "source": [
    "idcs = np.load('results/1/idcs.npy')\n",
    "prps = np.load('results/1/prps.npy')\n",
    "\n",
    "cc = np.load('results/1/cc.npy')\n",
    "hh = np.load('results/1/hh.npy')"
   ]
  },
  {
   "cell_type": "code",
   "execution_count": null,
   "id": "2f836e8c-6755-44d2-819f-1fcc274d09ad",
   "metadata": {},
   "outputs": [],
   "source": [
    "fig, axs = plt.subplots(1, 2, figsize = (9.5, 3.5))\n",
    "\n",
    "plot_hh = axs[0].scatter(idcs.flatten(), prps.flatten(), \n",
    "                         c = np.repeat(hh.flatten(), 5), alpha = 0.5)\n",
    "axs[0].set_xlabel(r'$I$')\n",
    "axs[0].set_ylabel(r'$p_{\\rm HH}$')\n",
    "axs[0].set_aspect('equal')\n",
    "fig.colorbar(plot_hh, ax = axs[0])\n",
    "axs[0].set_title(r'$\\beta_H$', loc = 'left')\n",
    "axs[0].scatter(0.05, 0.25, marker = 'x', c = 'red', s = 100)\n",
    "axs[0].scatter(0.05, 0.5, marker = 'x', c = 'red', s = 100)\n",
    "axs[0].scatter(0.05, 0.75, marker = 'x', c = 'red', s = 100)\n",
    "\n",
    "axs[0].scatter(0.1, 0.25, marker = 'x', c = 'red', s = 100)\n",
    "axs[0].scatter(0.1, 0.5, marker = 'x', c = 'red', s = 100)\n",
    "axs[0].scatter(0.1, 0.75, marker = 'x', c = 'red', s = 100)\n",
    "\n",
    "axs[0].scatter(0.3, 0.25, marker = 'x', c = 'red', s = 100)\n",
    "axs[0].scatter(0.3, 0.5, marker = 'x', c = 'red', s = 100)\n",
    "axs[0].scatter(0.3, 0.75, marker = 'x', c = 'red', s = 100)\n",
    "\n",
    "plot_cc = axs[1].scatter(idcs.flatten(), prps.flatten(), \n",
    "                         c = np.repeat(cc.flatten(), 5), alpha = 0.5)\n",
    "axs[1].set_xlabel(r'$I$')\n",
    "axs[1].set_ylabel(r'$p_{\\rm HH}$')\n",
    "axs[1].set_aspect('equal')\n",
    "fig.colorbar(plot_hh, ax = axs[1])\n",
    "axs[1].set_title(r'$\\beta_C$', loc = 'left')\n",
    "axs[1].scatter(0.05, 0.25, marker = 'x', c = 'red', s = 100)\n",
    "axs[1].scatter(0.05, 0.5, marker = 'x', c = 'red', s = 100)\n",
    "axs[1].scatter(0.05, 0.75, marker = 'x', c = 'red', s = 100)\n",
    "\n",
    "axs[1].scatter(0.1, 0.25, marker = 'x', c = 'red', s = 100)\n",
    "axs[1].scatter(0.1, 0.5, marker = 'x', c = 'red', s = 100)\n",
    "axs[1].scatter(0.1, 0.75, marker = 'x', c = 'red', s = 100)\n",
    "\n",
    "axs[1].scatter(0.3, 0.25, marker = 'x', c = 'red', s = 100)\n",
    "axs[1].scatter(0.3, 0.5, marker = 'x', c = 'red', s = 100)\n",
    "axs[1].scatter(0.3, 0.75, marker = 'x', c = 'red', s = 100)\n",
    "\n",
    "plt.savefig('prp_vs_inc_2.png', transparent = True, dpi = 300)"
   ]
  },
  {
   "cell_type": "markdown",
   "id": "00c2814c-1801-42fc-a3cb-339ba2be3afe",
   "metadata": {
    "jp-MarkdownHeadingCollapsed": true,
    "tags": []
   },
   "source": [
    "# 14 February"
   ]
  },
  {
   "cell_type": "raw",
   "id": "58ff0f34-cd43-4d73-9bf2-667ec529a3af",
   "metadata": {},
   "source": [
    "# rerun a grid search where you average the result of 5 or 10 values\n",
    "# hand calculate some extreme scenarios\n",
    "# where is the issue - model design, parameter range, or code bug.\n",
    "# run single simulations of extreme scenarios"
   ]
  },
  {
   "cell_type": "markdown",
   "id": "8e538c4e-94bc-4845-8c23-d2b392840370",
   "metadata": {},
   "source": [
    "Results for a $\\beta_H$ grid of $[20, 20.8, 21.6, \\ldots, 39.2, 40]$ and $\\beta_C$ grid of $[0, 0.04, 0.08, \\ldots, 0.96, 1]$."
   ]
  },
  {
   "cell_type": "code",
   "execution_count": null,
   "id": "50e0beda-8da3-4971-9fee-4cb4c84539ca",
   "metadata": {},
   "outputs": [],
   "source": [
    "idcs = np.load('results/2/idcs.npy')\n",
    "prps = np.load('results/2/prps.npy')\n",
    "\n",
    "cc = np.load('results/2/cc.npy')\n",
    "hh = np.load('results/2/hh.npy')"
   ]
  },
  {
   "cell_type": "code",
   "execution_count": null,
   "id": "15f3bfc6-a4fc-416c-8ba2-8677d8513ab9",
   "metadata": {},
   "outputs": [],
   "source": [
    "mean_idcs = idcs.mean(axis = 2)\n",
    "mean_prps = prps.mean(axis = 2)"
   ]
  },
  {
   "cell_type": "code",
   "execution_count": null,
   "id": "ec62b6e4-46f2-4cb3-8607-dd6f6198cef9",
   "metadata": {},
   "outputs": [],
   "source": [
    "fig, axs = plt.subplots(1, 2, figsize = (11, 3.5))\n",
    "\n",
    "plot_hh = axs[0].scatter(mean_idcs.flatten(), mean_prps.flatten(), \n",
    "                         c = hh.flatten(), alpha = 0.5)\n",
    "\n",
    "axs[0].set_xlabel(r'$I$')\n",
    "axs[0].set_ylabel(r'$p_{\\rm HH}$')\n",
    "axs[0].set_aspect('equal')\n",
    "fig.colorbar(plot_hh, ax = axs[0])\n",
    "axs[0].set_title(r'$\\beta_H$', loc = 'left')\n",
    "axs[0].scatter(0.05, 0.25, marker = 'x', c = 'red', s = 100)\n",
    "axs[0].scatter(0.05, 0.5, marker = 'x', c = 'red', s = 100)\n",
    "axs[0].scatter(0.05, 0.75, marker = 'x', c = 'red', s = 100)\n",
    "\n",
    "axs[0].scatter(0.1, 0.25, marker = 'x', c = 'red', s = 100)\n",
    "axs[0].scatter(0.1, 0.5, marker = 'x', c = 'red', s = 100)\n",
    "axs[0].scatter(0.1, 0.75, marker = 'x', c = 'red', s = 100)\n",
    "\n",
    "axs[0].scatter(0.3, 0.25, marker = 'x', c = 'red', s = 100)\n",
    "axs[0].scatter(0.3, 0.5, marker = 'x', c = 'red', s = 100)\n",
    "axs[0].scatter(0.3, 0.75, marker = 'x', c = 'red', s = 100)\n",
    "\n",
    "plot_cc = axs[1].scatter(mean_idcs.flatten(), mean_prps.flatten(), \n",
    "                         c = cc.flatten(), alpha = 0.5)\n",
    "axs[1].set_xlabel(r'$I$')\n",
    "axs[1].set_ylabel(r'$p_{\\rm HH}$')\n",
    "axs[1].set_aspect('equal')\n",
    "fig.colorbar(plot_hh, ax = axs[1])\n",
    "axs[1].set_title(r'$\\beta_C$', loc = 'left')\n",
    "axs[1].scatter(0.05, 0.25, marker = 'x', c = 'red', s = 100)\n",
    "axs[1].scatter(0.05, 0.5, marker = 'x', c = 'red', s = 100)\n",
    "axs[1].scatter(0.05, 0.75, marker = 'x', c = 'red', s = 100)\n",
    "\n",
    "axs[1].scatter(0.1, 0.25, marker = 'x', c = 'red', s = 100)\n",
    "axs[1].scatter(0.1, 0.5, marker = 'x', c = 'red', s = 100)\n",
    "axs[1].scatter(0.1, 0.75, marker = 'x', c = 'red', s = 100)\n",
    "\n",
    "axs[1].scatter(0.3, 0.25, marker = 'x', c = 'red', s = 100)\n",
    "axs[1].scatter(0.3, 0.5, marker = 'x', c = 'red', s = 100)\n",
    "axs[1].scatter(0.3, 0.75, marker = 'x', c = 'red', s = 100)\n",
    "\n",
    "plt.savefig('plots/prp_vs_inc_2.png', transparent = True, dpi = 300)"
   ]
  },
  {
   "cell_type": "markdown",
   "id": "1c6813d3-b980-441d-a33d-a523f89ad024",
   "metadata": {},
   "source": [
    "Results for a $\\beta_H$ grid of $[10, 12, 14, \\ldots, 48, 50]$ and $\\beta_C$ grid of $[0, 0.1, 0.2, \\ldots, 1.9, 2]$."
   ]
  },
  {
   "cell_type": "code",
   "execution_count": null,
   "id": "c2131a30-0f23-41b1-a9dc-c8cf44a1d0eb",
   "metadata": {},
   "outputs": [],
   "source": [
    "idcs = np.load('results/3/idcs_3.npy')\n",
    "prps = np.load('results/3/prps_3.npy')\n",
    "\n",
    "cc = np.load('results/3/cc_3.npy')\n",
    "hh = np.load('results/3/hh_3.npy')"
   ]
  },
  {
   "cell_type": "code",
   "execution_count": null,
   "id": "9c18b984-60f2-4bd3-8f2a-e0c964d326e6",
   "metadata": {},
   "outputs": [],
   "source": [
    "mean_idcs = idcs.mean(axis = 2)\n",
    "mean_prps = prps.mean(axis = 2)"
   ]
  },
  {
   "cell_type": "code",
   "execution_count": null,
   "id": "541c400d-20ae-4a8c-b38c-57744a5ca102",
   "metadata": {},
   "outputs": [],
   "source": [
    "fig, axs = plt.subplots(1, 2, figsize = (11, 3.5))\n",
    "\n",
    "plot_hh = axs[0].scatter(mean_idcs.flatten(), mean_prps.flatten(), \n",
    "                         c = hh.flatten(), alpha = 0.5)\n",
    "axs[0].set_xlabel(r'$I$')\n",
    "axs[0].set_ylabel(r'$p_{\\rm HH}$')\n",
    "axs[0].set_aspect('equal')\n",
    "fig.colorbar(plot_hh, ax = axs[0])\n",
    "axs[0].set_title(r'$\\beta_H$', loc = 'left')\n",
    "axs[0].scatter(0.05, 0.25, marker = 'x', c = 'red', s = 100)\n",
    "axs[0].scatter(0.05, 0.5, marker = 'x', c = 'red', s = 100)\n",
    "axs[0].scatter(0.05, 0.75, marker = 'x', c = 'red', s = 100)\n",
    "\n",
    "axs[0].scatter(0.1, 0.25, marker = 'x', c = 'red', s = 100)\n",
    "axs[0].scatter(0.1, 0.5, marker = 'x', c = 'red', s = 100)\n",
    "axs[0].scatter(0.1, 0.75, marker = 'x', c = 'red', s = 100)\n",
    "\n",
    "axs[0].scatter(0.3, 0.25, marker = 'x', c = 'red', s = 100)\n",
    "axs[0].scatter(0.3, 0.5, marker = 'x', c = 'red', s = 100)\n",
    "axs[0].scatter(0.3, 0.75, marker = 'x', c = 'red', s = 100)\n",
    "\n",
    "plot_cc = axs[1].scatter(mean_idcs.flatten(), mean_prps.flatten(), \n",
    "                         c = cc.flatten(), alpha = 0.5)\n",
    "axs[1].set_xlabel(r'$I$')\n",
    "axs[1].set_ylabel(r'$p_{\\rm HH}$')\n",
    "axs[1].set_aspect('equal')\n",
    "fig.colorbar(plot_hh, ax = axs[1])\n",
    "axs[1].set_title(r'$\\beta_C$', loc = 'left')\n",
    "axs[1].scatter(0.05, 0.25, marker = 'x', c = 'red', s = 100)\n",
    "axs[1].scatter(0.05, 0.5, marker = 'x', c = 'red', s = 100)\n",
    "axs[1].scatter(0.05, 0.75, marker = 'x', c = 'red', s = 100)\n",
    "\n",
    "axs[1].scatter(0.1, 0.25, marker = 'x', c = 'red', s = 100)\n",
    "axs[1].scatter(0.1, 0.5, marker = 'x', c = 'red', s = 100)\n",
    "axs[1].scatter(0.1, 0.75, marker = 'x', c = 'red', s = 100)\n",
    "\n",
    "axs[1].scatter(0.3, 0.25, marker = 'x', c = 'red', s = 100)\n",
    "axs[1].scatter(0.3, 0.5, marker = 'x', c = 'red', s = 100)\n",
    "axs[1].scatter(0.3, 0.75, marker = 'x', c = 'red', s = 100)\n",
    "\n",
    "plt.savefig('plots/prp_vs_inc_3.png', transparent = True, dpi = 300)"
   ]
  },
  {
   "cell_type": "markdown",
   "id": "aafda6d5-329a-4657-9666-d1d680f0f965",
   "metadata": {
    "jp-MarkdownHeadingCollapsed": true,
    "tags": []
   },
   "source": [
    "# 15 February"
   ]
  },
  {
   "cell_type": "code",
   "execution_count": null,
   "id": "cab3d7c0-e43d-49c7-97aa-134d56492ac8",
   "metadata": {},
   "outputs": [],
   "source": [
    "idcs_1 = np.load('results/4/idcs_1.npy')\n",
    "prps_1 = np.load('results/4/prps_1.npy')\n",
    "\n",
    "idcs_2 = np.load('results/4/idcs_2.npy')\n",
    "prps_2 = np.load('results/4/prps_2.npy')\n",
    "\n",
    "idcs_3 = np.load('results/4/idcs_3.npy')\n",
    "prps_3 = np.load('results/4/prps_3.npy')\n",
    "\n",
    "beta_H_vals = [20.6, 30, 29.6]\n",
    "beta_C_vals = [0.30, 0.12, 0.20]"
   ]
  },
  {
   "cell_type": "code",
   "execution_count": null,
   "id": "4ff4bf22-d168-4a96-b27b-246a0cf30b85",
   "metadata": {},
   "outputs": [],
   "source": [
    "fig, axs = plt.subplots(3, 2, figsize = (10, 16))\n",
    "bins = np.linspace(0, 1, 51)\n",
    "\n",
    "axs[0][0].hist(idcs_1, bins = bins)\n",
    "axs[0][1].hist(prps_1, bins = bins)\n",
    "axs[0][0].set_xlim(0, 1)\n",
    "axs[0][1].set_xlim(0, 1)\n",
    "axs[0][0].set_title(r'$\\beta_H = 20.6$, $\\beta_C = 0.30$', loc = 'left')\n",
    "axs[0][0].set_xlabel('Incidence')\n",
    "axs[0][1].set_xlabel('Proportion HH')\n",
    "\n",
    "axs[1][0].hist(idcs_2, bins = bins)\n",
    "axs[1][1].hist(prps_2, bins = bins)\n",
    "axs[1][0].set_xlim(0, 1)\n",
    "axs[1][1].set_xlim(0, 1)\n",
    "axs[1][0].set_title(r'$\\beta_H = 30$, $\\beta_C = 0.12$', loc = 'left')\n",
    "axs[1][0].set_xlabel('Incidence')\n",
    "axs[1][1].set_xlabel('Proportion of Infections from Household')\n",
    "\n",
    "axs[2][0].hist(idcs_3, bins = bins)\n",
    "axs[2][1].hist(prps_3, bins = bins)\n",
    "axs[2][0].set_xlim(0, 1)\n",
    "axs[2][1].set_xlim(0, 1)\n",
    "axs[2][0].set_title(r'$\\beta_H = 29.6$, $\\beta_C = 0.20$', loc = 'left')\n",
    "axs[2][0].set_xlabel('Incidence')\n",
    "axs[2][1].set_xlabel('Proportion of Infections from Household')\n",
    "plt.savefig('plots/param_check.png', transparent = False, dpi = 300)"
   ]
  },
  {
   "cell_type": "code",
   "execution_count": null,
   "id": "feb9abc7-4b15-4a78-8956-a448aec0db41",
   "metadata": {},
   "outputs": [],
   "source": [
    "idcs_1.mean(), prps_1.mean()"
   ]
  },
  {
   "cell_type": "code",
   "execution_count": null,
   "id": "2e6fc924-4166-468b-bb3c-6be73a515267",
   "metadata": {},
   "outputs": [],
   "source": [
    "idcs_2.mean(), prps_2.mean()"
   ]
  },
  {
   "cell_type": "code",
   "execution_count": null,
   "id": "44790fed-1fc8-4988-83df-cf71206f2a44",
   "metadata": {},
   "outputs": [],
   "source": [
    "idcs_3.mean(), prps_3.mean()"
   ]
  },
  {
   "cell_type": "code",
   "execution_count": null,
   "id": "fbef88a3-9d31-4a5d-becb-4074916cdd55",
   "metadata": {},
   "outputs": [],
   "source": [
    "idcs_3[prps_3 == 1]"
   ]
  },
  {
   "cell_type": "code",
   "execution_count": null,
   "id": "a9061507-4305-4527-a97d-68679df8622d",
   "metadata": {},
   "outputs": [],
   "source": [
    "prps_1[idcs_1 == 0]"
   ]
  },
  {
   "cell_type": "code",
   "execution_count": null,
   "id": "df5586fd-027f-44c0-8a93-a82b315704b2",
   "metadata": {},
   "outputs": [],
   "source": [
    "prps_2[idcs_2 == 0]"
   ]
  },
  {
   "cell_type": "code",
   "execution_count": null,
   "id": "70bc03ea-afaf-4f59-864e-10152ba63c87",
   "metadata": {},
   "outputs": [],
   "source": [
    "prps_3[idcs_3 == 0]"
   ]
  },
  {
   "cell_type": "markdown",
   "id": "c5578a7d-5e3b-41a1-a6e7-7c813c27b5e5",
   "metadata": {
    "jp-MarkdownHeadingCollapsed": true,
    "tags": []
   },
   "source": [
    "# 28 February"
   ]
  },
  {
   "cell_type": "code",
   "execution_count": null,
   "id": "2e802bbe-f9a7-49ef-a3fc-1a55498040ef",
   "metadata": {},
   "outputs": [],
   "source": [
    "def metrics(results):\n",
    "    state = results[~pd.isna(results['TIME'])]\n",
    "    i = state.shape[0]/1000\n",
    "    \n",
    "    #p_hh = np.nan\n",
    "    #if i != 0:\n",
    "    #    p_hh = state[state['TYPE'] == 'H'].shape[0] / state.shape[0]\n",
    "    #return i, p_hh\n",
    "    \n",
    "    sar = np.nan\n",
    "    if i != 0:\n",
    "        num_primary = np.sum(results.groupby('HH')['TIME'].sum() > 0) # households that were infected\n",
    "        idx = results.groupby('HH')['TYPE'].apply(lambda x: ~np.all(x.isna()))\n",
    "        num_contact = (results.groupby('HH')['SIZE'].sum()[idx]**(1/2)).sum() # total people in all those households\n",
    "        sar = state[(state['TYPE'] == 'H') | (state['TYPE'] == 'B')].shape[0] / (num_contact - num_primary)\n",
    "    \n",
    "    return i, sar"
   ]
  },
  {
   "cell_type": "code",
   "execution_count": null,
   "id": "4121f31d-9f79-4764-98a3-f98f90f6b1a8",
   "metadata": {},
   "outputs": [],
   "source": [
    "chain = np.load('results/5/chain_2.npy')"
   ]
  },
  {
   "cell_type": "code",
   "execution_count": null,
   "id": "55cfb9ad-9295-4fa1-a785-fc695655a86b",
   "metadata": {},
   "outputs": [],
   "source": [
    "from matplotlib.collections import LineCollection\n",
    "\n",
    "x = chain[:, 0]\n",
    "y = chain[:, 1]\n",
    "cs = np.linspace(0,1,len(x))\n",
    "\n",
    "points = np.array([x, y]).T.reshape(-1, 1, 2)\n",
    "segments = np.concatenate([points[:-1], points[1:]], axis=1)\n",
    "\n",
    "fig, ax = plt.subplots()\n",
    "lc = LineCollection(segments, cmap='viridis')\n",
    "lc.set_array(cs)\n",
    "lc.set_linewidth(1)\n",
    "line = ax.add_collection(lc)\n",
    "ax.autoscale()\n",
    "plt.xlabel(r'$\\beta_H$')\n",
    "plt.ylabel(r'$\\beta_C$')\n",
    "# Plot loss value over iterations\n",
    "# Deliverables\n",
    "# Update MCMC (by Wednesday)\n",
    "# - save likelihood\n",
    "# - each iteration averages over 100 iterations (NUM_ITER)\n",
    "# Implement SAR (by Friday)\n",
    "# Test R code on local device"
   ]
  },
  {
   "cell_type": "code",
   "execution_count": null,
   "id": "c039f20e-1c41-4b95-8861-9c75404cf2aa",
   "metadata": {},
   "outputs": [],
   "source": [
    "best = np.load('results/5/best_2.npy')"
   ]
  },
  {
   "cell_type": "code",
   "execution_count": null,
   "id": "b08059c9-39c1-4160-9407-cd96d190cb7b",
   "metadata": {},
   "outputs": [],
   "source": [
    "beta_H, beta_C = best"
   ]
  },
  {
   "cell_type": "code",
   "execution_count": null,
   "id": "1e47f34a-d567-4388-a0c1-48c1f261eae7",
   "metadata": {},
   "outputs": [],
   "source": [
    "idcs = np.load('results/6/idcs_5.npy')\n",
    "sars = np.load('results/6/sars_5.npy')\n",
    "\n",
    "cc = np.load('results/6/cc_5.npy')\n",
    "hh = np.load('results/6/hh_5.npy')"
   ]
  },
  {
   "cell_type": "code",
   "execution_count": null,
   "id": "de5a8d0d-93c2-414b-aaef-a2339fcb919e",
   "metadata": {},
   "outputs": [],
   "source": [
    "fig, axs = plt.subplots(1, 2, figsize = (11, 3.5))\n",
    "\n",
    "plot_hh = axs[0].scatter(idcs.flatten(), sars.flatten(), \n",
    "                         c = hh.flatten(), alpha = 0.5)\n",
    "axs[0].set_xlabel(r'$I$')\n",
    "axs[0].set_ylabel(r'$\\rm SAR$')\n",
    "axs[0].set_aspect('equal')\n",
    "fig.colorbar(plot_hh, ax = axs[0])\n",
    "axs[0].set_title(r'$\\beta_H$', loc = 'left')\n",
    "axs[0].scatter(0.05, 0.25, marker = 'x', c = 'red', s = 100)\n",
    "axs[0].scatter(0.1, 0.25, marker = 'x', c = 'red', s = 100)\n",
    "axs[0].scatter(0.3, 0.25, marker = 'x', c = 'red', s = 100)\n",
    "\n",
    "plot_cc = axs[1].scatter(idcs.flatten(), sars.flatten(), \n",
    "                         c = cc.flatten(), alpha = 0.5)\n",
    "axs[1].set_xlabel(r'$I$')\n",
    "axs[1].set_ylabel(r'$\\rm SAR$')\n",
    "axs[1].set_aspect('equal')\n",
    "fig.colorbar(plot_cc, ax = axs[1])\n",
    "axs[1].set_title(r'$\\beta_C$', loc = 'left')\n",
    "axs[1].scatter(0.05, 0.25, marker = 'x', c = 'red', s = 100)\n",
    "axs[1].scatter(0.1, 0.25, marker = 'x', c = 'red', s = 100)\n",
    "axs[1].scatter(0.3, 0.25, marker = 'x', c = 'red', s = 100)\n",
    "\n",
    "plt.savefig('plots/prp_vs_sar.png', transparent = True, dpi = 300)"
   ]
  },
  {
   "cell_type": "code",
   "execution_count": null,
   "id": "10be1b3a-bd28-4b46-a2fe-16a006bc7336",
   "metadata": {},
   "outputs": [],
   "source": [
    "cc[(idcs > 0.05) & (idcs < 0.15)]"
   ]
  },
  {
   "cell_type": "code",
   "execution_count": null,
   "id": "f8dfb1df-4b4f-4ec0-9e22-28c0984087d0",
   "metadata": {},
   "outputs": [],
   "source": [
    "hh[(idcs > 0.05) & (idcs < 0.15)]"
   ]
  },
  {
   "cell_type": "code",
   "execution_count": null,
   "id": "84a4315a-2b1d-4807-9554-1ae944274f51",
   "metadata": {},
   "outputs": [],
   "source": [
    "cc[(idcs > 0.25) & (idcs < 0.35)]"
   ]
  },
  {
   "cell_type": "code",
   "execution_count": null,
   "id": "ee3a9e94-9316-46a5-aa8a-85c34a7a2bfc",
   "metadata": {},
   "outputs": [],
   "source": [
    "hh[(idcs > 0.25) & (idcs < 0.35)]"
   ]
  },
  {
   "cell_type": "code",
   "execution_count": null,
   "id": "b2d8d3f0-e4ea-4c23-8654-262557e63a19",
   "metadata": {},
   "outputs": [],
   "source": [
    "cc[(idcs > 0.01) & (idcs < 0.07)]"
   ]
  },
  {
   "cell_type": "code",
   "execution_count": null,
   "id": "579bc8a3-8233-4371-9bf7-1bdd0b40c1f8",
   "metadata": {},
   "outputs": [],
   "source": [
    "hh[(idcs > 0.01) & (idcs < 0.07)]"
   ]
  },
  {
   "cell_type": "code",
   "execution_count": null,
   "id": "42150873-7016-4fc7-b57b-84698e668fad",
   "metadata": {},
   "outputs": [],
   "source": [
    "beta_Hs = np.linspace(5, 35, 61)\n",
    "beta_Cs = np.linspace(0, 1, 21)"
   ]
  },
  {
   "cell_type": "code",
   "execution_count": null,
   "id": "63264203-cb70-456d-8a95-9c2d754ae9b2",
   "metadata": {},
   "outputs": [],
   "source": [
    "beta_Hs"
   ]
  },
  {
   "cell_type": "code",
   "execution_count": null,
   "id": "157b9f98-a390-4398-97fb-b98d644ea62e",
   "metadata": {},
   "outputs": [],
   "source": [
    "i = 1, j = 0"
   ]
  },
  {
   "cell_type": "code",
   "execution_count": null,
   "id": "3f58e72e-dd3b-48f4-a36f-a9f34193f319",
   "metadata": {},
   "outputs": [],
   "source": [
    "for i in range(3):\n",
    "    for j in range(4):\n",
    "        for k in range(5):\n",
    "            print(20*i + 5*j + k)"
   ]
  },
  {
   "cell_type": "code",
   "execution_count": null,
   "id": "fbd501c4-12bc-42e6-b375-8e0091da7e06",
   "metadata": {},
   "outputs": [],
   "source": [
    "%%time\n",
    "SEIR(beta_H, beta_C, inc, inf)"
   ]
  },
  {
   "cell_type": "code",
   "execution_count": null,
   "id": "29b68760-8e8f-4bf3-916c-2131e38639c1",
   "metadata": {},
   "outputs": [],
   "source": [
    "beta_H, beta_C"
   ]
  },
  {
   "cell_type": "code",
   "execution_count": null,
   "id": "b65837dc-364d-49a1-9c63-6132a46df657",
   "metadata": {},
   "outputs": [],
   "source": [
    "n = 25\n",
    "sars = [None]*n\n",
    "idcs = [None]*n\n",
    "for i in range(n):\n",
    "    print(i, end = ' ')\n",
    "    results = SEIR(beta_H, beta_C, inc, inf)\n",
    "    idc, sar = metrics(results)\n",
    "    idcs[i] = idc\n",
    "    sars[i] = sar\n",
    "    print()"
   ]
  },
  {
   "cell_type": "code",
   "execution_count": null,
   "id": "4953d591-32b6-4902-b11c-3900d706953b",
   "metadata": {},
   "outputs": [],
   "source": [
    "np.mean(idcs)"
   ]
  },
  {
   "cell_type": "code",
   "execution_count": null,
   "id": "7da42852-2339-40a8-bce2-ee14027e7501",
   "metadata": {},
   "outputs": [],
   "source": [
    "plt.hist(idcs, alpha = 0.5)"
   ]
  },
  {
   "cell_type": "code",
   "execution_count": null,
   "id": "d084053c-9a81-4cbb-b2a1-9ec63f393ac7",
   "metadata": {},
   "outputs": [],
   "source": [
    "np.mean(sars)"
   ]
  },
  {
   "cell_type": "code",
   "execution_count": null,
   "id": "1aa35ff7-0606-4a14-be7e-2bde6b747c6f",
   "metadata": {},
   "outputs": [],
   "source": [
    "plt.hist(sars, alpha = 0.5)"
   ]
  },
  {
   "cell_type": "code",
   "execution_count": null,
   "id": "84478c03-fc8b-4a0c-8997-dc2945376da7",
   "metadata": {},
   "outputs": [],
   "source": [
    "chain"
   ]
  },
  {
   "cell_type": "code",
   "execution_count": null,
   "id": "0114acbc-c12c-4963-84c7-a95ba2636cba",
   "metadata": {},
   "outputs": [],
   "source": [
    "np.unique(chain).shape"
   ]
  },
  {
   "cell_type": "code",
   "execution_count": null,
   "id": "f8853bd6-4bde-4043-bb29-68e28ee77ab3",
   "metadata": {},
   "outputs": [],
   "source": [
    "np.prod(chain.shape)"
   ]
  },
  {
   "cell_type": "markdown",
   "id": "ca249af6-4105-4423-99ca-6812053fa369",
   "metadata": {
    "jp-MarkdownHeadingCollapsed": true,
    "tags": []
   },
   "source": [
    "# 6 March "
   ]
  },
  {
   "cell_type": "code",
   "execution_count": null,
   "id": "3acc2f20-d9bb-4268-9111-263b4867fd36",
   "metadata": {},
   "outputs": [],
   "source": [
    "best = np.load('results/8/best.npy')\n",
    "liks = np.load('results/8/liks.npy')"
   ]
  },
  {
   "cell_type": "code",
   "execution_count": null,
   "id": "36d9c821-7d97-4a40-9bc6-35a0be107ad6",
   "metadata": {},
   "outputs": [],
   "source": [
    "best"
   ]
  },
  {
   "cell_type": "code",
   "execution_count": null,
   "id": "ad44a4e6-cdf3-4794-b124-4487053840c7",
   "metadata": {},
   "outputs": [],
   "source": [
    "liks[:, 0]"
   ]
  },
  {
   "cell_type": "code",
   "execution_count": null,
   "id": "bc879500-7686-4a03-bd40-b762effa76a9",
   "metadata": {},
   "outputs": [],
   "source": [
    "# How many simulations per parameter set: Pick 5 parameter sets and check them on different simulation sizes (10, 50, 100, 250, 500, 750, 1000)\n",
    "# Sophia will test on Winton\n",
    "# Paralellize code\n",
    "# MCMC fits to stochastic models: harder to find the global optimum. Initial guess makes a big difference.\n",
    "# Grid search to get better initial guess."
   ]
  },
  {
   "cell_type": "code",
   "execution_count": null,
   "id": "a70324f9-c308-4831-850b-f466f3391a84",
   "metadata": {},
   "outputs": [],
   "source": [
    "chain"
   ]
  },
  {
   "cell_type": "code",
   "execution_count": null,
   "id": "946098d9-1955-42be-8bed-565e1e85b663",
   "metadata": {},
   "outputs": [],
   "source": [
    "plt.plot(chain[:, 0], chain[:, 1])"
   ]
  },
  {
   "cell_type": "code",
   "execution_count": null,
   "id": "7b6d1b97-6823-41b4-85ef-436278543269",
   "metadata": {},
   "outputs": [],
   "source": [
    "plt.plot(liks[:, 0])"
   ]
  },
  {
   "cell_type": "code",
   "execution_count": null,
   "id": "63ee71d2-fd4a-48b0-8f15-ac1427995f32",
   "metadata": {},
   "outputs": [],
   "source": [
    "chain = np.load('results/8/chain.npy')"
   ]
  },
  {
   "cell_type": "code",
   "execution_count": null,
   "id": "c542c197-2ee7-4b9f-99be-7db339998abf",
   "metadata": {},
   "outputs": [],
   "source": [
    "chain"
   ]
  },
  {
   "cell_type": "markdown",
   "id": "9ce3ce83-008c-4d82-8097-11e49ee6ecca",
   "metadata": {
    "jp-MarkdownHeadingCollapsed": true,
    "tags": []
   },
   "source": [
    "# 15 March"
   ]
  },
  {
   "cell_type": "markdown",
   "id": "67b9f71f-8764-4e4d-b15a-76fc9c816da4",
   "metadata": {
    "jp-MarkdownHeadingCollapsed": true,
    "tags": []
   },
   "source": [
    "## Grid Search"
   ]
  },
  {
   "cell_type": "code",
   "execution_count": null,
   "id": "316d0fa4-37b3-4948-915c-829cbf9eaf6f",
   "metadata": {},
   "outputs": [],
   "source": [
    "idcs = np.load('results/9/idcs.npy')\n",
    "sars = np.load('results/9/sars.npy')\n",
    "\n",
    "cc = np.load('results/9/cc.npy')\n",
    "hh = np.load('results/9/hh.npy')"
   ]
  },
  {
   "cell_type": "code",
   "execution_count": null,
   "id": "c4e93690-e90d-4c72-96bc-f3db6e1faaaa",
   "metadata": {},
   "outputs": [],
   "source": [
    "idcs.shape"
   ]
  },
  {
   "cell_type": "code",
   "execution_count": null,
   "id": "b8d401c9-f36d-4801-b17a-1be52a6659ad",
   "metadata": {},
   "outputs": [],
   "source": [
    "np.sum(np.isnan(idcs))"
   ]
  },
  {
   "cell_type": "code",
   "execution_count": null,
   "id": "2d9d40eb-1f3c-413b-a154-243e8e43c179",
   "metadata": {},
   "outputs": [],
   "source": [
    "sars"
   ]
  },
  {
   "cell_type": "code",
   "execution_count": null,
   "id": "551e05a0-57ca-4e86-b43d-e1ac80556472",
   "metadata": {},
   "outputs": [],
   "source": [
    "mean_idcs = idcs.mean(axis = 2)\n",
    "mean_sars = sars.mean(axis = 2)"
   ]
  },
  {
   "cell_type": "code",
   "execution_count": null,
   "id": "60870ac1-cb51-42e2-b7df-a3da72f716e5",
   "metadata": {},
   "outputs": [],
   "source": [
    "fig, axs = plt.subplots(1, 2, figsize = (11, 3.5))\n",
    "\n",
    "plot_hh = axs[0].scatter(mean_idcs.flatten(), mean_sars.flatten(), \n",
    "                         c = hh.flatten(), alpha = 0.5)\n",
    "\n",
    "axs[0].set_xlabel(r'$I$')\n",
    "axs[0].set_ylabel(r'${\\rm SAR}$')\n",
    "axs[0].set_aspect('equal')\n",
    "fig.colorbar(plot_hh, ax = axs[0])\n",
    "axs[0].set_title(r'$\\beta_H$', loc = 'left')\n",
    "axs[0].scatter(0.05, 0.25, marker = 'x', c = 'red', s = 100)\n",
    "axs[0].scatter(0.05, 0.5, marker = 'x', c = 'red', s = 100)\n",
    "axs[0].scatter(0.05, 0.75, marker = 'x', c = 'red', s = 100)\n",
    "\n",
    "axs[0].scatter(0.1, 0.25, marker = 'x', c = 'red', s = 100)\n",
    "axs[0].scatter(0.1, 0.5, marker = 'x', c = 'red', s = 100)\n",
    "axs[0].scatter(0.1, 0.75, marker = 'x', c = 'red', s = 100)\n",
    "\n",
    "axs[0].scatter(0.3, 0.25, marker = 'x', c = 'red', s = 100)\n",
    "axs[0].scatter(0.3, 0.5, marker = 'x', c = 'red', s = 100)\n",
    "axs[0].scatter(0.3, 0.75, marker = 'x', c = 'red', s = 100)\n",
    "\n",
    "plot_cc = axs[1].scatter(mean_idcs.flatten(), mean_sars.flatten(), \n",
    "                         c = cc.flatten(), alpha = 0.5)\n",
    "axs[1].set_xlabel(r'$I$')\n",
    "axs[1].set_ylabel(r'${\\rm SAR}$')\n",
    "axs[1].set_aspect('equal')\n",
    "fig.colorbar(plot_hh, ax = axs[1])\n",
    "axs[1].set_title(r'$\\beta_C$', loc = 'left')\n",
    "axs[1].scatter(0.05, 0.25, marker = 'x', c = 'red', s = 100)\n",
    "axs[1].scatter(0.05, 0.5, marker = 'x', c = 'red', s = 100)\n",
    "axs[1].scatter(0.05, 0.75, marker = 'x', c = 'red', s = 100)\n",
    "\n",
    "axs[1].scatter(0.1, 0.25, marker = 'x', c = 'red', s = 100)\n",
    "axs[1].scatter(0.1, 0.5, marker = 'x', c = 'red', s = 100)\n",
    "axs[1].scatter(0.1, 0.75, marker = 'x', c = 'red', s = 100)\n",
    "\n",
    "axs[1].scatter(0.3, 0.25, marker = 'x', c = 'red', s = 100)\n",
    "axs[1].scatter(0.3, 0.5, marker = 'x', c = 'red', s = 100)\n",
    "axs[1].scatter(0.3, 0.75, marker = 'x', c = 'red', s = 100)\n",
    "\n",
    "plt.savefig('plots/sar_vs_idc.png', transparent = True, dpi = 300)"
   ]
  },
  {
   "cell_type": "code",
   "execution_count": null,
   "id": "3b4938ad-6a6a-4b49-a14f-fea51dec186e",
   "metadata": {},
   "outputs": [],
   "source": [
    "def create_hh():\n",
    "    hh_size = np.random.choice([3, 4, 5, 6], size = 340, replace = True)\n",
    "    hh_size = hh_size[np.cumsum(hh_size) < 1000]\n",
    "    \n",
    "    leftover = 1000 - hh_size.sum()\n",
    "    if leftover < 3:\n",
    "        # Randomly sample leftover amount indices from hh_size, and add one\n",
    "        hh = np.arange(len(hh_size))\n",
    "        idx = np.random.choice(hh[hh_size < 6], size = leftover, replace = False)\n",
    "        hh_size[idx] += 1\n",
    "    else:\n",
    "        hh_size = np.append(hh_size, leftover)\n",
    "    return hh_size\n",
    "\n",
    "def SEIR(beta_H, beta_C, inc, inf, verbose = 0):\n",
    "    hh_size = create_hh()\n",
    "    \n",
    "    # ID: ID of individual\n",
    "    # SIZE: size of individual's household\n",
    "    # HH: ID of individual's household\n",
    "    # S: susceptibility status\n",
    "    # E: exposed status\n",
    "    # E_count: number of days since exposed\n",
    "    # I: infectious status\n",
    "    # I_count: number of days since infectious\n",
    "    # R: recovered status\n",
    "    # INC: incubation period\n",
    "    # INF: infectious period\n",
    "    # S_num: number of susceptible people in household when infectious period begins\n",
    "    # I_num: number of people that this person infected over the infectious period\n",
    "    data = pd.DataFrame({'ID': range(1000),\n",
    "                         'SIZE': np.repeat(hh_size, repeats = hh_size),\n",
    "                         'HH': np.repeat(range(len(hh_size)), repeats = hh_size),\n",
    "                         'S': np.append(0, np.ones(999)),\n",
    "                         'E': np.append(1, np.zeros(999)),\n",
    "                         'E_count': np.append(1, np.zeros(999)),\n",
    "                         'I': np.zeros(1000),\n",
    "                         'I_count': np.zeros(1000),\n",
    "                         'R': np.zeros(1000),\n",
    "                         'INC': np.append(np.round(stats.norm.rvs(inc, 2)), np.zeros(999)),\n",
    "                         'INF': np.zeros(1000)\n",
    "                        })\n",
    "    \n",
    "    # Create frame for storing results\n",
    "    results = data.loc[:, 'ID':'HH']\n",
    "    results['TYPE'] = np.nan\n",
    "    results.loc[0, 'TYPE'] = 'I' # index case is Type 0 \n",
    "    results['TIME'] = np.nan\n",
    "    #results['TIME_I'] = np.nan\n",
    "    #results['TIME_E'] = np.nan\n",
    "    results['S_num'] = np.nan\n",
    "    results['I_num'] = 0\n",
    "    \n",
    "    for t in range(time):\n",
    "        if verbose:\n",
    "            if t % 10 == 0: print(t, end = ' ')\n",
    "        \n",
    "        # Anyone who has been infectious for as many days as their infectious\n",
    "        # period is now recovered.\n",
    "        recovered = (data['INF'] > 0) & (data['I_count'] == data['INF'])\n",
    "        if sum(recovered) > 0:\n",
    "            data.loc[recovered, 'R'] = 1\n",
    "            data.loc[recovered, 'I'] = 0\n",
    "            data.loc[recovered, 'I_count'] = 0\n",
    "\n",
    "        # Anyone who has been incubating for as many days as their incubation\n",
    "        # period is now infectious.\n",
    "        new_inf = (data['INC'] > 0) & (data['E_count'] == data['INC'])\n",
    "        num_new_inf = sum(new_inf)\n",
    "        if num_new_inf > 0:\n",
    "            random_inf = np.round(stats.norm.rvs(inf, 1, size = num_new_inf))\n",
    "            data.loc[new_inf, 'I'] = 1\n",
    "            data.loc[new_inf, 'INF'] = random_inf\n",
    "            data.loc[new_inf, 'E'] = 0\n",
    "            data.loc[new_inf, 'E_count'] = 0\n",
    "            \n",
    "            # If newly infected and there isn't already a time recorded, then update with the time t.\n",
    "            results['TIME'].where(~(new_inf == 1) | ~pd.isna(results['TIME']), t, inplace = True)\n",
    "            #results['TIME_I'].where(~(new_inf == 1) | ~pd.isna(results['TIME_I']), t, inplace = True)\n",
    "            \n",
    "            # Get the number of susceptible people in each household\n",
    "            S_num = data.groupby('HH').sum()\n",
    "\n",
    "            # Get the households of the newly infectious people\n",
    "            hh_idx = data.loc[new_inf, :]['HH']\n",
    "            \n",
    "            # Save in results the number of susceptible people\n",
    "            results.loc[new_inf, 'S_num'] = S_num.loc[hh_idx, 'S'].values\n",
    "            \n",
    "        # I_H is the number of infections in each household.\n",
    "        # I_C is the number of infections outside a given household.\n",
    "        I_H = data.groupby('HH').sum()['I']\n",
    "        summary = pd.DataFrame({'I_H': I_H, \n",
    "                                'I_C': data.sum()['I'] - I_H\n",
    "                               })\n",
    "        # dd is a frame where each individual is assigned their household's\n",
    "        # I_H and I_C numbers.\n",
    "        dd = data[['HH', 'S']].copy()\n",
    "        dd['I_H'] = dd.apply(lambda x: summary.loc[x['HH'], 'I_H'], axis = 1)\n",
    "        dd['I_C'] = dd.apply(lambda x: summary.loc[x['HH'], 'I_C'], axis = 1)\n",
    "\n",
    "        # Calculate household risk and community risk\n",
    "        risk_H = dd['S'] * beta_H * dd['I_H'] / 1000\n",
    "        risk_C = dd['S'] * beta_C * dd['I_C'] / 1000\n",
    "\n",
    "        # Calculate new household and community infections\n",
    "        new_inf_H = stats.binom.rvs(1, risk_H, size = data.shape[0])\n",
    "        new_inf_C = stats.binom.rvs(1, risk_C, size = data.shape[0])\n",
    "        new_exposed = (new_inf_H == 1) | (new_inf_C == 1)\n",
    "\n",
    "        num_new_exposed = sum(new_exposed)\n",
    "        if num_new_exposed > 0:\n",
    "            data.loc[new_exposed, 'E'] = 1\n",
    "            random_inc = np.round(stats.norm.rvs(inc, 2, size = num_new_exposed))\n",
    "            data.loc[new_exposed, 'E'] = 1\n",
    "            data.loc[new_exposed, 'INC'] = random_inc\n",
    "            \n",
    "            #print(np.sum( (new_inf_H == 1) & (~pd.isna(results['TYPE'])) ))\n",
    "            # The NA checks may not be necessary, since S = 0 for anyone who already has been assigned a TYPE\n",
    "            results['TYPE'].where(~(new_inf_H == 1) | ~pd.isna(results['TYPE']), 'H', inplace = True)\n",
    "            results['TYPE'].where(~(new_inf_C == 1) | ~pd.isna(results['TYPE']), 'C', inplace = True)\n",
    "            #results['TIME_E'].where(~(new_exposed == 1) | ~pd.isna(results['TIME_E']), t, inplace = True)\n",
    "            \n",
    "            # Number of new infections in each household\n",
    "            rr = results.loc[new_inf_H == 1, :].groupby('HH')['TYPE'].count()\n",
    "            \n",
    "            # Get individuals with the smallest infectious counts\n",
    "            ids = data[data['I'] == 1].groupby('HH').min()['ID']\n",
    "            \n",
    "            # Increase I_num by the amount of people in household that got a H-type infection\n",
    "            res_idx = results['ID'].isin(ids) & (results['HH'].isin(rr.index))\n",
    "            results.loc[res_idx, 'I_num'] += rr.values\n",
    "            \n",
    "            # After the above analysis, assign 'B' to people who were infected by both.\n",
    "            results['TYPE'].where(~((new_inf_H == 1) & (new_inf_C == 1)) | ~pd.isna(results['TYPE']), 'B', inplace = True)\n",
    "            \n",
    "        data.loc[data['E'] == 1, 'E_count'] += 1\n",
    "        data.loc[data['I'] == 1, 'I_count'] += 1\n",
    "        data.loc[data['E'] == 1, 'S'] = 0\n",
    "\n",
    "    return results\n",
    "\n",
    "def metrics(results):\n",
    "    state = results[~pd.isna(results['TIME'])]\n",
    "    idc = state.shape[0]/1000\n",
    "    \n",
    "    sar = np.nan\n",
    "    if idc != 0:\n",
    "        sar = np.mean(results['I_num'] / results['S_num'])\n",
    "    \n",
    "    return idc, sar\n",
    "\n",
    "def score(results, target):\n",
    "    return np.sum((np.array(metrics(results)) - target)**2)"
   ]
  },
  {
   "cell_type": "code",
   "execution_count": null,
   "id": "3e0383d3-b55c-4203-95ac-f5b44e238f11",
   "metadata": {},
   "outputs": [],
   "source": [
    "beta_H = hh[20][20]\n",
    "beta_C = cc[10][10]"
   ]
  },
  {
   "cell_type": "code",
   "execution_count": null,
   "id": "5200868e-6f89-4cb3-bff7-da1505cf9c78",
   "metadata": {},
   "outputs": [],
   "source": [
    "beta_H"
   ]
  },
  {
   "cell_type": "code",
   "execution_count": null,
   "id": "24b9212c-909d-4b80-b1bf-6a6ce8039c3a",
   "metadata": {},
   "outputs": [],
   "source": [
    "beta_C"
   ]
  },
  {
   "cell_type": "code",
   "execution_count": null,
   "id": "3f54f4b7-1af7-4b83-8da2-766cb2236a06",
   "metadata": {},
   "outputs": [],
   "source": [
    "results = SEIR(beta_H, beta_C, inc, inf)"
   ]
  },
  {
   "cell_type": "code",
   "execution_count": null,
   "id": "10c61466-ed90-41bc-8225-e24ffb3d269f",
   "metadata": {},
   "outputs": [],
   "source": [
    "metrics(results)"
   ]
  },
  {
   "cell_type": "markdown",
   "id": "c1465047-0cbf-4e22-97e5-1b25575af3ac",
   "metadata": {
    "jp-MarkdownHeadingCollapsed": true,
    "tags": []
   },
   "source": [
    "## Variance Check"
   ]
  },
  {
   "cell_type": "markdown",
   "id": "2f56f85e-1e34-4189-b72c-15c5946137a3",
   "metadata": {
    "jp-MarkdownHeadingCollapsed": true,
    "tags": []
   },
   "source": [
    "### Case 1"
   ]
  },
  {
   "cell_type": "markdown",
   "id": "65de3de4-8a74-4f3a-9d6d-90aaf4c9db02",
   "metadata": {},
   "source": [
    "For Case 1, \n",
    "- $\\beta_H = 30$;\n",
    "- $\\beta_C = 0.12$."
   ]
  },
  {
   "cell_type": "code",
   "execution_count": null,
   "id": "0f675aba-f8f0-449f-8378-44b3e55b4eb1",
   "metadata": {},
   "outputs": [],
   "source": [
    "idcs_10 = np.load('results/8/idcs_1_10.npy')\n",
    "idcs_50 = np.load('results/8/idcs_1_50.npy')\n",
    "idcs_100 = np.load('results/8/idcs_1_100.npy')\n",
    "idcs_250 = np.load('results/8/idcs_1_250.npy')\n",
    "idcs_500 = np.load('results/8/idcs_1_500.npy')\n",
    "idcs_750 = np.load('results/8/idcs_1_750.npy')\n",
    "idcs_1000 = np.load('results/8/idcs_1_1000.npy')\n",
    "\n",
    "sars_10 = np.load('results/8/sars_1_10.npy')\n",
    "sars_50 = np.load('results/8/sars_1_50.npy')\n",
    "sars_100 = np.load('results/8/sars_1_100.npy')\n",
    "sars_250 = np.load('results/8/sars_1_250.npy')\n",
    "sars_500 = np.load('results/8/sars_1_500.npy')\n",
    "sars_750 = np.load('results/8/sars_1_750.npy')\n",
    "sars_1000 = np.load('results/8/sars_1_1000.npy')\n",
    "\n",
    "n_10 = np.arange(1, 11)\n",
    "n_50 = np.arange(1, 51)\n",
    "n_100 = np.arange(1, 101)\n",
    "n_250 = np.arange(1, 251)\n",
    "n_500 = np.arange(1, 501)\n",
    "n_750 = np.arange(1, 751)\n",
    "n_1000 = np.arange(1, 1001)"
   ]
  },
  {
   "cell_type": "code",
   "execution_count": null,
   "id": "ca4c1407-6499-4428-a791-80629abe1f13",
   "metadata": {},
   "outputs": [],
   "source": [
    "idc_avg_10 = np.cumsum(idcs_10) / n_10\n",
    "idc_avg_50 = np.cumsum(idcs_50) / n_50\n",
    "idc_avg_100 = np.cumsum(idcs_100) / n_100\n",
    "idc_avg_250 = np.cumsum(idcs_250) / n_250\n",
    "idc_avg_500 = np.cumsum(idcs_500) / n_500\n",
    "idc_avg_750 = np.cumsum(idcs_750) / n_750\n",
    "idc_avg_1000 = np.cumsum(idcs_1000) / n_1000\n",
    "\n",
    "sar_avg_10 = np.cumsum(sars_10) / n_10\n",
    "sar_avg_50 = np.cumsum(sars_50) / n_50\n",
    "sar_avg_100 = np.cumsum(sars_100) / n_100\n",
    "sar_avg_250 = np.cumsum(sars_250) / n_250\n",
    "sar_avg_500 = np.cumsum(sars_500) / n_500\n",
    "sar_avg_750 = np.cumsum(sars_750) / n_750\n",
    "sar_avg_1000 = np.cumsum(sars_1000) / n_1000"
   ]
  },
  {
   "cell_type": "code",
   "execution_count": null,
   "id": "d60516cc-3682-479d-923b-f9d30bac8a02",
   "metadata": {},
   "outputs": [],
   "source": [
    "fig, axs = plt.subplots(1, 2, figsize = (11, 3.5))\n",
    "\n",
    "axs[0].plot(n_10, idc_avg_10, alpha = 0.75)\n",
    "axs[0].plot(n_50, idc_avg_50, alpha = 0.75)\n",
    "axs[0].plot(n_100, idc_avg_100, alpha = 0.75)\n",
    "axs[0].plot(n_250, idc_avg_250, alpha = 0.75)\n",
    "axs[0].plot(n_500, idc_avg_500, alpha = 0.75)\n",
    "axs[0].plot(n_750, idc_avg_750, alpha = 0.75)\n",
    "axs[0].plot(n_1000, idc_avg_1000, alpha = 0.75)\n",
    "axs[0].set_xlabel('Number of Simulations')\n",
    "axs[0].set_ylabel('Average Incidence')\n",
    "axs[0].set_title(r'$\\beta_H = 30$, $\\beta_C = 0.12$', loc = 'left')\n",
    "axs[0].set_title(r'Convergence of Incidence', loc = 'left')\n",
    "\n",
    "axs[1].plot(n_10, sar_avg_10, alpha = 0.75)\n",
    "axs[1].plot(n_50, sar_avg_50, alpha = 0.75)\n",
    "axs[1].plot(n_100, sar_avg_100, alpha = 0.75)\n",
    "axs[1].plot(n_250, sar_avg_250, alpha = 0.75)\n",
    "axs[1].plot(n_500, sar_avg_500, alpha = 0.75)\n",
    "axs[1].plot(n_750, sar_avg_750, alpha = 0.75)\n",
    "axs[1].plot(n_1000, sar_avg_1000, alpha = 0.75)\n",
    "axs[1].set_xlabel('Number of Simulations')\n",
    "axs[1].set_ylabel('Average SAR')\n",
    "axs[1].set_title(r'$\\beta_H = 30$, $\\beta_C = 0.12$', loc = 'left')\n",
    "axs[1].set_title(r'Convergence of SAR', loc = 'left')\n",
    "\n",
    "plt.savefig('plots/case_1.png', bbox_inches = 'tight', dpi = 300)"
   ]
  },
  {
   "cell_type": "markdown",
   "id": "c8268c5d-6bb7-4c86-92d2-19358282faeb",
   "metadata": {
    "jp-MarkdownHeadingCollapsed": true,
    "tags": []
   },
   "source": [
    "### Case 2"
   ]
  },
  {
   "cell_type": "markdown",
   "id": "d1d04d7a-0c92-4b83-9449-ba12c40836e1",
   "metadata": {},
   "source": [
    "For Case 2, \n",
    "- $\\beta_H = 23$;\n",
    "- $\\beta_C = 0.1$."
   ]
  },
  {
   "cell_type": "code",
   "execution_count": null,
   "id": "b9e750b9-7e75-4aa8-92b8-656b1b60e958",
   "metadata": {},
   "outputs": [],
   "source": [
    "idcs_10 = np.load('results/8/idcs_2_10.npy')\n",
    "idcs_50 = np.load('results/8/idcs_2_50.npy')\n",
    "idcs_100 = np.load('results/8/idcs_2_100.npy')\n",
    "idcs_250 = np.load('results/8/idcs_2_250.npy')\n",
    "idcs_500 = np.load('results/8/idcs_2_500.npy')\n",
    "idcs_750 = np.load('results/8/idcs_2_750.npy')\n",
    "idcs_1000 = np.load('results/8/idcs_2_1000.npy')\n",
    "\n",
    "sars_10 = np.load('results/8/sars_2_10.npy')\n",
    "sars_50 = np.load('results/8/sars_2_50.npy')\n",
    "sars_100 = np.load('results/8/sars_2_100.npy')\n",
    "sars_250 = np.load('results/8/sars_2_250.npy')\n",
    "sars_500 = np.load('results/8/sars_2_500.npy')\n",
    "sars_750 = np.load('results/8/sars_2_750.npy')\n",
    "sars_1000 = np.load('results/8/sars_2_1000.npy')\n",
    "\n",
    "n_10 = np.arange(1, 11)\n",
    "n_50 = np.arange(1, 51)\n",
    "n_100 = np.arange(1, 101)\n",
    "n_250 = np.arange(1, 251)\n",
    "n_500 = np.arange(1, 501)\n",
    "n_750 = np.arange(1, 751)\n",
    "n_1000 = np.arange(1, 1001)"
   ]
  },
  {
   "cell_type": "code",
   "execution_count": null,
   "id": "cae83527-1bfa-402a-9eea-4f78156d2c1c",
   "metadata": {},
   "outputs": [],
   "source": [
    "idc_avg_10 = np.cumsum(idcs_10) / n_10\n",
    "idc_avg_50 = np.cumsum(idcs_50) / n_50\n",
    "idc_avg_100 = np.cumsum(idcs_100) / n_100\n",
    "idc_avg_250 = np.cumsum(idcs_250) / n_250\n",
    "idc_avg_500 = np.cumsum(idcs_500) / n_500\n",
    "idc_avg_750 = np.cumsum(idcs_750) / n_750\n",
    "idc_avg_1000 = np.cumsum(idcs_1000) / n_1000\n",
    "\n",
    "sar_avg_10 = np.cumsum(sars_10) / n_10\n",
    "sar_avg_50 = np.cumsum(sars_50) / n_50\n",
    "sar_avg_100 = np.cumsum(sars_100) / n_100\n",
    "sar_avg_250 = np.cumsum(sars_250) / n_250\n",
    "sar_avg_500 = np.cumsum(sars_500) / n_500\n",
    "sar_avg_750 = np.cumsum(sars_750) / n_750\n",
    "sar_avg_1000 = np.cumsum(sars_1000) / n_1000"
   ]
  },
  {
   "cell_type": "code",
   "execution_count": null,
   "id": "1db19b33-efae-4a5d-8660-dfbaa771aac3",
   "metadata": {},
   "outputs": [],
   "source": [
    "fig, axs = plt.subplots(1, 2, figsize = (11, 3.5))\n",
    "\n",
    "axs[0].plot(n_10, idc_avg_10, alpha = 0.75)\n",
    "axs[0].plot(n_50, idc_avg_50, alpha = 0.75)\n",
    "axs[0].plot(n_100, idc_avg_100, alpha = 0.75)\n",
    "axs[0].plot(n_250, idc_avg_250, alpha = 0.75)\n",
    "axs[0].plot(n_500, idc_avg_500, alpha = 0.75)\n",
    "axs[0].plot(n_750, idc_avg_750, alpha = 0.75)\n",
    "axs[0].plot(n_1000, idc_avg_1000, alpha = 0.75)\n",
    "axs[0].set_xlabel('Number of Simulations')\n",
    "axs[0].set_ylabel('Average Incidence')\n",
    "axs[0].set_title(r'$\\beta_H = 23$, $\\beta_C = 0.1$', loc = 'left')\n",
    "axs[0].set_title(r'Convergence of Incidence', loc = 'left')\n",
    "\n",
    "axs[1].plot(n_10, sar_avg_10, alpha = 0.75)\n",
    "axs[1].plot(n_50, sar_avg_50, alpha = 0.75)\n",
    "axs[1].plot(n_100, sar_avg_100, alpha = 0.75)\n",
    "axs[1].plot(n_250, sar_avg_250, alpha = 0.75)\n",
    "axs[1].plot(n_500, sar_avg_500, alpha = 0.75)\n",
    "axs[1].plot(n_750, sar_avg_750, alpha = 0.75)\n",
    "axs[1].plot(n_1000, sar_avg_1000, alpha = 0.75)\n",
    "axs[1].set_xlabel('Number of Simulations')\n",
    "axs[1].set_ylabel('Average SAR')\n",
    "axs[1].set_title(r'$\\beta_H = 23$, $\\beta_C = 0.1$', loc = 'left')\n",
    "axs[1].set_title(r'Convergence of SAR', loc = 'left')\n",
    "\n",
    "plt.savefig('plots/case_2.png', bbox_inches = 'tight', dpi = 300)"
   ]
  },
  {
   "cell_type": "markdown",
   "id": "984e80c7-e870-4de6-bfdd-4ac65337b720",
   "metadata": {
    "jp-MarkdownHeadingCollapsed": true,
    "tags": []
   },
   "source": [
    "### Case 3"
   ]
  },
  {
   "cell_type": "markdown",
   "id": "a464a8fd-16da-4602-af8f-f97935715aea",
   "metadata": {},
   "source": [
    "For Case 3, \n",
    "- $\\beta_H = 11$;\n",
    "- $\\beta_C = 0.05$."
   ]
  },
  {
   "cell_type": "code",
   "execution_count": null,
   "id": "00b0b9fb-e686-4943-a481-0cbdb6a19638",
   "metadata": {},
   "outputs": [],
   "source": [
    "idcs_10 = np.load('results/8/idcs_3_10.npy')\n",
    "idcs_50 = np.load('results/8/idcs_3_50.npy')\n",
    "idcs_100 = np.load('results/8/idcs_3_100.npy')\n",
    "idcs_250 = np.load('results/8/idcs_3_250.npy')\n",
    "idcs_500 = np.load('results/8/idcs_3_500.npy')\n",
    "idcs_750 = np.load('results/8/idcs_3_750.npy')\n",
    "idcs_1000 = np.load('results/8/idcs_3_1000.npy')\n",
    "\n",
    "sars_10 = np.load('results/8/sars_3_10.npy')\n",
    "sars_50 = np.load('results/8/sars_3_50.npy')\n",
    "sars_100 = np.load('results/8/sars_3_100.npy')\n",
    "sars_250 = np.load('results/8/sars_3_250.npy')\n",
    "sars_500 = np.load('results/8/sars_3_500.npy')\n",
    "sars_750 = np.load('results/8/sars_3_750.npy')\n",
    "sars_1000 = np.load('results/8/sars_3_1000.npy')\n",
    "\n",
    "n_10 = np.arange(1, 11)\n",
    "n_50 = np.arange(1, 51)\n",
    "n_100 = np.arange(1, 101)\n",
    "n_250 = np.arange(1, 251)\n",
    "n_500 = np.arange(1, 501)\n",
    "n_750 = np.arange(1, 751)\n",
    "n_1000 = np.arange(1, 1001)"
   ]
  },
  {
   "cell_type": "code",
   "execution_count": null,
   "id": "8e7298d3-5f2b-435f-88ca-10a88afd2151",
   "metadata": {},
   "outputs": [],
   "source": [
    "idc_avg_10 = np.cumsum(idcs_10) / n_10\n",
    "idc_avg_50 = np.cumsum(idcs_50) / n_50\n",
    "idc_avg_100 = np.cumsum(idcs_100) / n_100\n",
    "idc_avg_250 = np.cumsum(idcs_250) / n_250\n",
    "idc_avg_500 = np.cumsum(idcs_500) / n_500\n",
    "idc_avg_750 = np.cumsum(idcs_750) / n_750\n",
    "idc_avg_1000 = np.cumsum(idcs_1000) / n_1000\n",
    "\n",
    "sar_avg_10 = np.cumsum(sars_10) / n_10\n",
    "sar_avg_50 = np.cumsum(sars_50) / n_50\n",
    "sar_avg_100 = np.cumsum(sars_100) / n_100\n",
    "sar_avg_250 = np.cumsum(sars_250) / n_250\n",
    "sar_avg_500 = np.cumsum(sars_500) / n_500\n",
    "sar_avg_750 = np.cumsum(sars_750) / n_750\n",
    "sar_avg_1000 = np.cumsum(sars_1000) / n_1000"
   ]
  },
  {
   "cell_type": "code",
   "execution_count": null,
   "id": "e994c365-edb9-4c3b-8c15-762cbb471f40",
   "metadata": {},
   "outputs": [],
   "source": [
    "fig, axs = plt.subplots(1, 2, figsize = (11, 3.5))\n",
    "\n",
    "axs[0].plot(n_10, idc_avg_10, alpha = 0.75)\n",
    "axs[0].plot(n_50, idc_avg_50, alpha = 0.75)\n",
    "axs[0].plot(n_100, idc_avg_100, alpha = 0.75)\n",
    "axs[0].plot(n_250, idc_avg_250, alpha = 0.75)\n",
    "axs[0].plot(n_500, idc_avg_500, alpha = 0.75)\n",
    "axs[0].plot(n_750, idc_avg_750, alpha = 0.75)\n",
    "axs[0].plot(n_1000, idc_avg_1000, alpha = 0.75)\n",
    "axs[0].set_xlabel('Number of Simulations')\n",
    "axs[0].set_ylabel('Average Incidence')\n",
    "axs[0].set_title(r'$\\beta_H = 11$, $\\beta_C = 0.05$', loc = 'left')\n",
    "axs[0].set_title(r'Convergence of Incidence', loc = 'left')\n",
    "\n",
    "axs[1].plot(n_10, sar_avg_10, alpha = 0.75)\n",
    "axs[1].plot(n_50, sar_avg_50, alpha = 0.75)\n",
    "axs[1].plot(n_100, sar_avg_100, alpha = 0.75)\n",
    "axs[1].plot(n_250, sar_avg_250, alpha = 0.75)\n",
    "axs[1].plot(n_500, sar_avg_500, alpha = 0.75)\n",
    "axs[1].plot(n_750, sar_avg_750, alpha = 0.75)\n",
    "axs[1].plot(n_1000, sar_avg_1000, alpha = 0.75)\n",
    "axs[1].set_xlabel('Number of Simulations')\n",
    "axs[1].set_ylabel('Average SAR')\n",
    "axs[1].set_title(r'$\\beta_H = 11$, $\\beta_C = 0.05$', loc = 'right');\n",
    "axs[1].set_title(r'Convergence of SAR', loc = 'left')\n",
    "\n",
    "plt.savefig('plots/case_3.png', bbox_inches = 'tight', dpi = 300)"
   ]
  },
  {
   "cell_type": "markdown",
   "id": "1e207c4c-ca65-44d9-802d-ed4e182ddf07",
   "metadata": {
    "tags": []
   },
   "source": [
    "### Scores"
   ]
  },
  {
   "cell_type": "code",
   "execution_count": null,
   "id": "8f590b0e-9e2a-4e0f-8178-1bf138b87a34",
   "metadata": {},
   "outputs": [],
   "source": [
    "idcs_1_1000 = np.load('results/8/idcs_1_1000.npy')\n",
    "sars_1_1000 = np.load('results/8/sars_1_1000.npy')\n",
    "vals_1 = np.vstack([idcs_1_1000, sars_1_1000]).T\n",
    "\n",
    "idcs_2_1000 = np.load('results/8/idcs_2_1000.npy')\n",
    "sars_2_1000 = np.load('results/8/sars_2_1000.npy')\n",
    "vals_2 = np.vstack([idcs_2_1000, sars_2_1000]).T\n",
    "\n",
    "idcs_3_1000 = np.load('results/8/idcs_3_1000.npy')\n",
    "sars_3_1000 = np.load('results/8/sars_3_1000.npy')\n",
    "vals_3 = np.vstack([idcs_3_1000, sars_3_1000]).T"
   ]
  },
  {
   "cell_type": "code",
   "execution_count": null,
   "id": "a1b043fc-0f52-496f-a6ec-3e22942cad2b",
   "metadata": {},
   "outputs": [],
   "source": [
    "target = np.repeat(np.array([[0.3, 0.25]]), 1000, axis = 0)"
   ]
  },
  {
   "cell_type": "code",
   "execution_count": null,
   "id": "5c1f4630-f551-4679-bf3a-a41019f3fe3f",
   "metadata": {},
   "outputs": [],
   "source": [
    "idc_1_avgs = np.cumsum(vals_1[:, 0]) / n_1000\n",
    "sar_1_avgs = np.cumsum(vals_1[:, 1]) / n_1000\n",
    "\n",
    "idc_2_avgs = np.cumsum(vals_2[:, 0]) / n_1000\n",
    "sar_2_avgs = np.cumsum(vals_2[:, 1]) / n_1000\n",
    "\n",
    "idc_3_avgs = np.cumsum(vals_3[:, 0]) / n_1000\n",
    "sar_3_avgs = np.cumsum(vals_3[:, 1]) / n_1000\n",
    "\n",
    "scores_1 = (idc_1_avgs - 0.3)**2 + (sar_1_avgs - 0.25)**2\n",
    "scores_2 = (idc_2_avgs - 0.3)**2 + (sar_2_avgs - 0.25)**2\n",
    "scores_3 = (idc_3_avgs - 0.3)**2 + (sar_3_avgs - 0.25)**2"
   ]
  },
  {
   "cell_type": "code",
   "execution_count": null,
   "id": "b9eb23bb-7956-4174-847d-40946b33efb2",
   "metadata": {},
   "outputs": [],
   "source": [
    "fig, axs = plt.subplots(1, 2, figsize = (11, 3.5))\n",
    "\n",
    "axs[0].plot(n_1000, scores_1, label = r'$\\beta_H = 30$, $\\beta_C = 0.12$')\n",
    "axs[0].plot(n_1000, scores_2, label = r'$\\beta_H = 23$, $\\beta_C = 0.1$')\n",
    "axs[0].plot(n_1000, scores_3, label = r'$\\beta_H = 11$, $\\beta_C = 0.05$')\n",
    "axs[0].set_xlabel('Number of Simulations')\n",
    "axs[0].set_ylabel(r'$\\ell^2$ Score')\n",
    "axs[0].set_title('Convergence of Score')\n",
    "axs[0].legend()\n",
    "\n",
    "axs[1].plot(n_1000, -np.log(scores_1), label = r'$\\beta_H = 30$, $\\beta_C = 0.12$')\n",
    "axs[1].plot(n_1000, -np.log(scores_2), label = r'$\\beta_H = 23$, $\\beta_C = 0.1$')\n",
    "axs[1].plot(n_1000, -np.log(scores_3), label = r'$\\beta_H = 11$, $\\beta_C = 0.05$')\n",
    "axs[1].set_xlabel('Number of Simulations')\n",
    "axs[1].set_ylabel(r'Likelihood')\n",
    "axs[1].set_title('Convergence of Likelihood')\n",
    "axs[1].legend()\n",
    "\n",
    "plt.savefig('plots/score.png',  bbox_inches = 'tight', dpi = 300)"
   ]
  },
  {
   "cell_type": "markdown",
   "id": "5e14aacd-35c2-4dad-b6e8-66b5d643e08e",
   "metadata": {
    "jp-MarkdownHeadingCollapsed": true,
    "tags": []
   },
   "source": [
    "# 17 March"
   ]
  },
  {
   "cell_type": "code",
   "execution_count": null,
   "id": "254a919f-464f-44bc-bac7-ccd003561be0",
   "metadata": {},
   "outputs": [],
   "source": [
    "vals_r = pd.read_csv('validation/vals.csv').drop(['Unnamed: 0'], axis = 1)"
   ]
  },
  {
   "cell_type": "code",
   "execution_count": null,
   "id": "45997017-eb8e-4708-93c8-15ed09adb06e",
   "metadata": {},
   "outputs": [],
   "source": [
    "vals_r"
   ]
  },
  {
   "cell_type": "code",
   "execution_count": null,
   "id": "2c09e21a-6e8c-428e-acba-de3dee98bd10",
   "metadata": {},
   "outputs": [],
   "source": [
    "vals_r."
   ]
  },
  {
   "cell_type": "code",
   "execution_count": null,
   "id": "7e58dc38-7a58-475d-b001-488f6b522108",
   "metadata": {},
   "outputs": [],
   "source": [
    "plt.hist(vals_r['V1'], alpha = 0.5)"
   ]
  },
  {
   "cell_type": "code",
   "execution_count": null,
   "id": "f7ef016f-4118-4bfd-b881-2c4142c68527",
   "metadata": {},
   "outputs": [],
   "source": [
    "plt.hist(vals_r['V2'], alpha = 0.5)"
   ]
  },
  {
   "cell_type": "code",
   "execution_count": null,
   "id": "1401d088-662d-4036-ac8c-2b7fcd14f9c1",
   "metadata": {},
   "outputs": [],
   "source": [
    "np.mean(vals_r['V2'])"
   ]
  },
  {
   "cell_type": "code",
   "execution_count": null,
   "id": "b1cbfb28-1384-456d-aa26-081133bd0112",
   "metadata": {},
   "outputs": [],
   "source": [
    "np.mean(vals_r['V1'])"
   ]
  },
  {
   "cell_type": "markdown",
   "id": "372c5a93-4dfa-4e7a-a238-81ba375c3d2c",
   "metadata": {
    "jp-MarkdownHeadingCollapsed": true,
    "tags": []
   },
   "source": [
    "# 20 March"
   ]
  },
  {
   "cell_type": "code",
   "execution_count": 78,
   "id": "33adc92c-a006-4430-b41a-b7e0fe3a65d4",
   "metadata": {},
   "outputs": [],
   "source": [
    "idcs = np.load('results/10/idcs.npy')\n",
    "sars = np.load('results/10/sars.npy')\n",
    "\n",
    "cc = np.load('results/10/cc.npy')\n",
    "hh = np.load('results/10/hh.npy')"
   ]
  },
  {
   "cell_type": "code",
   "execution_count": 79,
   "id": "1f37814b-6a36-4eff-8f06-a62a5093d6d0",
   "metadata": {},
   "outputs": [],
   "source": [
    "mean_idcs = idcs.mean(axis = 2)\n",
    "mean_sars = sars.mean(axis = 2)"
   ]
  },
  {
   "cell_type": "code",
   "execution_count": 80,
   "id": "a3eecd98-62f3-4255-b3ca-225ec7eb86aa",
   "metadata": {},
   "outputs": [
    {
     "data": {
      "text/plain": [
       "array([0.  , 0.3 , 0.05, 0.35])"
      ]
     },
     "execution_count": 80,
     "metadata": {},
     "output_type": "execute_result"
    }
   ],
   "source": [
    "cc[mean_sars > 0.2]"
   ]
  },
  {
   "cell_type": "code",
   "execution_count": 81,
   "id": "0bb8bbf7-fa42-4111-be53-a3903948cbd8",
   "metadata": {},
   "outputs": [
    {
     "data": {
      "text/plain": [
       "array([32.5, 33.5, 34.5, 35. ])"
      ]
     },
     "execution_count": 81,
     "metadata": {},
     "output_type": "execute_result"
    }
   ],
   "source": [
    "hh[mean_sars > 0.2]"
   ]
  },
  {
   "cell_type": "code",
   "execution_count": 82,
   "id": "1cab5be0-4036-4e4c-8f19-ed22deb7eb09",
   "metadata": {},
   "outputs": [
    {
     "data": {
      "image/png": "[encoded data removed]",
      "text/plain": [
       "<Figure size 792x252 with 4 Axes>"
      ]
     },
     "metadata": {
      "needs_background": "light"
     },
     "output_type": "display_data"
    }
   ],
   "source": [
    "fig, axs = plt.subplots(1, 2, figsize = (11, 3.5))\n",
    "\n",
    "plot_hh = axs[0].scatter(mean_idcs.flatten(), mean_sars.flatten(), \n",
    "                         c = hh.flatten(), alpha = 0.5)\n",
    "\n",
    "axs[0].set_xlabel(r'$I$')\n",
    "axs[0].set_ylabel(r'${\\rm SAR}$')\n",
    "#axs[0].set_aspect('equal')\n",
    "fig.colorbar(plot_hh, ax = axs[0])\n",
    "axs[0].set_title(r'$\\beta_H$', loc = 'left')\n",
    "axs[0].scatter(0.05, 0.25, marker = 'x', c = 'red', s = 100)\n",
    "axs[0].scatter(0.1, 0.25, marker = 'x', c = 'red', s = 100)\n",
    "axs[0].scatter(0.3, 0.25, marker = 'x', c = 'red', s = 100)\n",
    "\n",
    "plot_cc = axs[1].scatter(mean_idcs.flatten(), mean_sars.flatten(), \n",
    "                         c = cc.flatten(), alpha = 0.5)\n",
    "axs[1].set_xlabel(r'$I$')\n",
    "axs[1].set_ylabel(r'${\\rm SAR}$')\n",
    "#axs[1].set_aspect('equal')\n",
    "fig.colorbar(plot_hh, ax = axs[1])\n",
    "axs[1].set_title(r'$\\beta_C$', loc = 'left')\n",
    "axs[1].scatter(0.05, 0.25, marker = 'x', c = 'red', s = 100)\n",
    "axs[1].scatter(0.1, 0.25, marker = 'x', c = 'red', s = 100)\n",
    "axs[1].scatter(0.3, 0.25, marker = 'x', c = 'red', s = 100)\n",
    "\n",
    "plt.savefig('plots/10.png', transparent = True, dpi = 300)"
   ]
  },
  {
   "cell_type": "code",
   "execution_count": null,
   "id": "8958d27d-cc63-4cc3-aa87-4ad0be834b12",
   "metadata": {},
   "outputs": [],
   "source": [
    "cc[(mean_idcs >= .09) & (mean_idcs <= .11)]"
   ]
  },
  {
   "cell_type": "code",
   "execution_count": null,
   "id": "5f90b394-31bc-4175-a720-db3ed1083c97",
   "metadata": {},
   "outputs": [],
   "source": [
    "hh[(mean_idcs >= .09) & (mean_idcs <= .11)]"
   ]
  },
  {
   "cell_type": "code",
   "execution_count": 9,
   "id": "b55774dc-d218-4506-b0a0-4785d0f06461",
   "metadata": {},
   "outputs": [
    {
     "data": {
      "text/plain": [
       "array([[0.005, 0.002, 0.005, 0.002, 0.006, 0.001, 0.002, 0.002, 0.001],\n",
       "       [0.994, 0.996, 0.998, 0.985, 0.994, 0.997, 0.982, 0.993, 0.992],\n",
       "       [1.   , 1.   , 1.   , 1.   , 1.   , 1.   , 1.   , 1.   , 1.   ]])"
      ]
     },
     "execution_count": 9,
     "metadata": {},
     "output_type": "execute_result"
    }
   ],
   "source": [
    "arr = np.loadtxt('idcs.txt')\n",
    "arr"
   ]
  },
  {
   "cell_type": "code",
   "execution_count": 14,
   "id": "8ef27c34-3fed-475b-9b1b-b59c6c90ba79",
   "metadata": {},
   "outputs": [],
   "source": [
    "arr = arr.reshape(3, 3, 3)"
   ]
  },
  {
   "cell_type": "code",
   "execution_count": 17,
   "id": "851f43ca-244f-4ac9-8b2c-37b723850887",
   "metadata": {},
   "outputs": [
    {
     "data": {
      "text/plain": [
       "array([[[0.005, 0.002, 0.005],\n",
       "        [0.002, 0.006, 0.001],\n",
       "        [0.002, 0.002, 0.001]],\n",
       "\n",
       "       [[0.994, 0.996, 0.998],\n",
       "        [0.985, 0.994, 0.997],\n",
       "        [0.982, 0.993, 0.992]],\n",
       "\n",
       "       [[1.   , 1.   , 1.   ],\n",
       "        [1.   , 1.   , 1.   ],\n",
       "        [1.   , 1.   , 1.   ]]])"
      ]
     },
     "execution_count": 17,
     "metadata": {},
     "output_type": "execute_result"
    }
   ],
   "source": [
    "arr"
   ]
  },
  {
   "cell_type": "code",
   "execution_count": 21,
   "id": "85053113-a3ac-41f8-92f3-1f4e7570ccdd",
   "metadata": {},
   "outputs": [
    {
     "data": {
      "text/plain": [
       "array([[0.004     , 0.003     , 0.00166667],\n",
       "       [0.996     , 0.992     , 0.989     ],\n",
       "       [1.        , 1.        , 1.        ]])"
      ]
     },
     "execution_count": 21,
     "metadata": {},
     "output_type": "execute_result"
    }
   ],
   "source": [
    "arr.mean(axis = 2)"
   ]
  },
  {
   "cell_type": "code",
   "execution_count": 12,
   "id": "4fb394ef-8a5e-43dd-8891-147d92e5543c",
   "metadata": {},
   "outputs": [],
   "source": [
    "cc, hh = np.meshgrid([35, 50, 65], [0, 0.5, 1])"
   ]
  },
  {
   "cell_type": "code",
   "execution_count": 13,
   "id": "cde94ee6-cc75-4e48-959e-19716616d13e",
   "metadata": {},
   "outputs": [
    {
     "data": {
      "text/plain": [
       "array([[35, 50, 65],\n",
       "       [35, 50, 65],\n",
       "       [35, 50, 65]])"
      ]
     },
     "execution_count": 13,
     "metadata": {},
     "output_type": "execute_result"
    }
   ],
   "source": [
    "cc"
   ]
  },
  {
   "cell_type": "markdown",
   "id": "4ead1097-916d-422e-a0f8-ea61ec6d4fda",
   "metadata": {
    "tags": []
   },
   "source": [
    "# 21 March"
   ]
  },
  {
   "cell_type": "code",
   "execution_count": 105,
   "id": "f0ab7616-7bc7-4206-8cbe-1e8a55475e73",
   "metadata": {},
   "outputs": [],
   "source": [
    "beta_Hs = np.linspace(35, 65, 61)\n",
    "beta_Cs = np.linspace(0, 0.5, 26)\n",
    "\n",
    "a = len(beta_Hs)\n",
    "b = len(beta_Cs)\n",
    "reps = 40\n",
    "\n",
    "cc, hh = np.meshgrid(beta_Cs, beta_Hs)"
   ]
  },
  {
   "cell_type": "code",
   "execution_count": 130,
   "id": "9ee4209e-9afd-48eb-bd9d-8e0bbf13b0fa",
   "metadata": {},
   "outputs": [],
   "source": [
    "idcs = np.loadtxt('results/16/idcs.txt')\n",
    "sars = np.loadtxt('results/16/sars.txt')\n",
    "\n",
    "#idcs = idcs.reshape(a, b, reps)\n",
    "#sars = sars.reshape(a, b, reps)\n",
    "\n",
    "ii = idcs.reshape(a, reps, b)\n",
    "ss = sars.reshape(a, reps, b)"
   ]
  },
  {
   "cell_type": "code",
   "execution_count": 131,
   "id": "d6a36a8e-4e29-4cc1-8451-5bcc2744aff8",
   "metadata": {},
   "outputs": [],
   "source": [
    "#mean_idcs = idcs.mean(axis = 2)\n",
    "#mean_sars = sars.mean(axis = 2)\n",
    "\n",
    "mean_idcs = ii.mean(axis = 1)\n",
    "mean_sars = ss.mean(axis = 1)"
   ]
  },
  {
   "cell_type": "code",
   "execution_count": 132,
   "id": "5fbd25bb-348c-437a-a62d-e066841a5172",
   "metadata": {},
   "outputs": [],
   "source": [
    "cc = np.round(cc, 3)\n",
    "hh = np.round(hh, 3)"
   ]
  },
  {
   "cell_type": "code",
   "execution_count": 152,
   "id": "cdd4a5ea-0687-43c0-bda4-f1e3cc8d67fd",
   "metadata": {},
   "outputs": [
    {
     "data": {
      "text/plain": [
       "array([0.14, 0.14, 0.12, 0.12, 0.12])"
      ]
     },
     "execution_count": 152,
     "metadata": {},
     "output_type": "execute_result"
    }
   ],
   "source": [
    "cc[(mean_idcs >= 0.295) & (mean_idcs <= 0.305)]"
   ]
  },
  {
   "cell_type": "code",
   "execution_count": 153,
   "id": "fe6cb642-8beb-4baf-b391-c8d6f5d7be0b",
   "metadata": {},
   "outputs": [
    {
     "data": {
      "text/plain": [
       "array([36.5, 39.5, 54. , 57. , 59. ])"
      ]
     },
     "execution_count": 153,
     "metadata": {},
     "output_type": "execute_result"
    }
   ],
   "source": [
    "hh[(mean_idcs >= 0.295) & (mean_idcs <= 0.305)]"
   ]
  },
  {
   "cell_type": "code",
   "execution_count": 154,
   "id": "7e2ee7ac-e23e-4923-accc-e9a6e136884d",
   "metadata": {},
   "outputs": [
    {
     "data": {
      "text/plain": [
       "array([0.08])"
      ]
     },
     "execution_count": 154,
     "metadata": {},
     "output_type": "execute_result"
    }
   ],
   "source": [
    "cc[(mean_idcs >= 0.095) & (mean_idcs <= 0.105)]"
   ]
  },
  {
   "cell_type": "code",
   "execution_count": 155,
   "id": "6fb52949-385d-4d37-9128-9996c965c3cc",
   "metadata": {},
   "outputs": [
    {
     "data": {
      "text/plain": [
       "array([55.5])"
      ]
     },
     "execution_count": 155,
     "metadata": {},
     "output_type": "execute_result"
    }
   ],
   "source": [
    "hh[(mean_idcs >= 0.095) & (mean_idcs <= 0.105)]"
   ]
  },
  {
   "cell_type": "code",
   "execution_count": 156,
   "id": "767163b4-b7a0-4488-8ea0-85cfcf2e1246",
   "metadata": {},
   "outputs": [
    {
     "data": {
      "text/plain": [
       "array([0.08, 0.08, 0.08, 0.08, 0.08, 0.08, 0.08, 0.06, 0.06, 0.06, 0.06])"
      ]
     },
     "execution_count": 156,
     "metadata": {},
     "output_type": "execute_result"
    }
   ],
   "source": [
    "cc[(mean_idcs >= 0.045) & (mean_idcs <= 0.055)]"
   ]
  },
  {
   "cell_type": "code",
   "execution_count": 157,
   "id": "7079c374-9392-4d75-985a-794691f9b61e",
   "metadata": {},
   "outputs": [
    {
     "data": {
      "text/plain": [
       "array([40. , 40.5, 42.5, 45.5, 46.5, 49. , 51. , 58.5, 60. , 63. , 63.5])"
      ]
     },
     "execution_count": 157,
     "metadata": {},
     "output_type": "execute_result"
    }
   ],
   "source": [
    "hh[(mean_idcs >= 0.045) & (mean_idcs <= 0.055)]"
   ]
  },
  {
   "cell_type": "code",
   "execution_count": 173,
   "id": "fe9d5f77-30e0-4308-9c07-b98743ea912d",
   "metadata": {},
   "outputs": [
    {
     "data": {
      "text/plain": [
       "array([40. , 40.8, 41.6, 42.4, 43.2, 44. , 44.8, 45.6, 46.4, 47.2, 48. ,\n",
       "       48.8, 49.6, 50.4, 51.2, 52. , 52.8, 53.6, 54.4, 55.2, 56. , 56.8,\n",
       "       57.6, 58.4, 59.2, 60. ])"
      ]
     },
     "execution_count": 173,
     "metadata": {},
     "output_type": "execute_result"
    }
   ],
   "source": [
    "np.linspace(40, 60, 26)"
   ]
  },
  {
   "cell_type": "code",
   "execution_count": 160,
   "id": "9d3c5411-90a6-4062-bae1-c52a1f8f7268",
   "metadata": {},
   "outputs": [
    {
     "data": {
      "text/plain": [
       "array([0.  , 0.01, 0.02, 0.03, 0.04, 0.05, 0.06, 0.07, 0.08, 0.09, 0.1 ,\n",
       "       0.11, 0.12, 0.13, 0.14, 0.15, 0.16, 0.17, 0.18, 0.19, 0.2 ])"
      ]
     },
     "execution_count": 160,
     "metadata": {},
     "output_type": "execute_result"
    }
   ],
   "source": [
    "np.linspace(0, 0.2, 21)"
   ]
  },
  {
   "cell_type": "code",
   "execution_count": 149,
   "id": "d04b7322-3036-4192-aa80-4d168a2300a9",
   "metadata": {},
   "outputs": [
    {
     "data": {
      "text/plain": [
       "array([0.3 , 0.3 , 0.1 , 0.36, 0.26, 0.34, 0.3 , 0.38, 0.4 , 0.18, 0.28,\n",
       "       0.36, 0.38, 0.42, 0.44, 0.34, 0.36, 0.38, 0.42, 0.22, 0.24, 0.32,\n",
       "       0.34, 0.36, 0.38, 0.44, 0.2 , 0.26, 0.3 , 0.42, 0.44, 0.22, 0.34,\n",
       "       0.36, 0.38, 0.4 , 0.46, 0.48, 0.5 , 0.14, 0.22, 0.34, 0.4 , 0.48,\n",
       "       0.5 , 0.24, 0.26, 0.4 , 0.42, 0.5 , 0.14, 0.44, 0.46, 0.5 , 0.14,\n",
       "       0.24, 0.38, 0.42, 0.44, 0.48, 0.14, 0.3 , 0.46, 0.5 , 0.  , 0.18,\n",
       "       0.28, 0.36, 0.12, 0.3 , 0.34, 0.28, 0.42, 0.12, 0.26, 0.48, 0.1 ,\n",
       "       0.  , 0.04, 0.12, 0.16, 0.2 , 0.16, 0.1 , 0.14, 0.04, 0.16, 0.08,\n",
       "       0.  , 0.02, 0.02, 0.04, 0.06, 0.16, 0.18, 0.  , 0.08, 0.1 , 0.06])"
      ]
     },
     "execution_count": 149,
     "metadata": {},
     "output_type": "execute_result"
    }
   ],
   "source": [
    "cc[(mean_sars >= 0.245) & (mean_sars <= 0.255)]"
   ]
  },
  {
   "cell_type": "code",
   "execution_count": 150,
   "id": "62da72fe-24cb-40f3-9587-57dd4ccf747d",
   "metadata": {},
   "outputs": [
    {
     "data": {
      "text/plain": [
       "array([42.5, 44. , 44.5, 44.5, 45. , 45. , 45.5, 45.5, 45.5, 46. , 46. ,\n",
       "       46. , 46. , 46. , 46. , 46.5, 46.5, 46.5, 46.5, 47. , 47. , 47. ,\n",
       "       47. , 47. , 47. , 47. , 47.5, 47.5, 47.5, 47.5, 47.5, 48. , 48. ,\n",
       "       48. , 48. , 48. , 48. , 48. , 48. , 48.5, 48.5, 48.5, 48.5, 48.5,\n",
       "       48.5, 49. , 49. , 49. , 49. , 49. , 49.5, 49.5, 49.5, 49.5, 50. ,\n",
       "       50. , 50. , 50. , 50. , 50. , 50.5, 50.5, 50.5, 50.5, 51. , 51. ,\n",
       "       51. , 51. , 51.5, 51.5, 51.5, 52. , 52. , 52.5, 52.5, 52.5, 53. ,\n",
       "       53.5, 53.5, 53.5, 53.5, 53.5, 54. , 55. , 55. , 55.5, 55.5, 56. ,\n",
       "       56.5, 56.5, 57.5, 58.5, 58.5, 59. , 59. , 59.5, 60. , 61. , 62.5])"
      ]
     },
     "execution_count": 150,
     "metadata": {},
     "output_type": "execute_result"
    }
   ],
   "source": [
    "hh[(mean_sars >= 0.245) & (mean_sars <= 0.255)]"
   ]
  },
  {
   "cell_type": "code",
   "execution_count": 175,
   "id": "6d9d944d-4d0f-474b-a081-f1067bc8ca35",
   "metadata": {},
   "outputs": [
    {
     "data": {
      "image/png": "[encoded data removed]",
      "text/plain": [
       "<Figure size 720x86.4 with 4 Axes>"
      ]
     },
     "metadata": {
      "needs_background": "light"
     },
     "output_type": "display_data"
    }
   ],
   "source": [
    "fig, axs = plt.subplots(1, 2, figsize = (10, 1.2))\n",
    "\n",
    "plot_hh = axs[0].scatter(mean_idcs[hh <= 63], mean_sars[hh <= 63], \n",
    "                         c = hh[hh <= 63], alpha = 0.5)\n",
    "axs[0].set_xlabel(r'$I$')\n",
    "axs[0].set_ylabel(r'${\\rm SAR}$')\n",
    "axs[0].set_aspect('equal')\n",
    "fig.colorbar(plot_hh, ax = axs[0])\n",
    "axs[0].set_title(r'$\\beta_H$', loc = 'left')\n",
    "axs[0].scatter(0.05, 0.25, marker = 'x', c = 'red', s = 100)\n",
    "axs[0].scatter(0.1, 0.25, marker = 'x', c = 'red', s = 100)\n",
    "axs[0].scatter(0.3, 0.25, marker = 'x', c = 'red', s = 100)\n",
    "axs[0].set_xlim(0, 0.35)\n",
    "axs[0].set_ylim(0.2, 0.3)\n",
    "\n",
    "plot_cc = axs[1].scatter(mean_idcs[hh <= 63], mean_sars[hh <= 63], \n",
    "                         c = cc[hh <= 63], alpha = 0.5)\n",
    "axs[1].set_xlabel(r'$I$')\n",
    "axs[1].set_ylabel(r'${\\rm SAR}$')\n",
    "axs[1].set_aspect('equal')\n",
    "fig.colorbar(plot_hh, ax = axs[1])\n",
    "axs[1].set_title(r'$\\beta_C$', loc = 'left')\n",
    "axs[1].scatter(0.05, 0.25, marker = 'x', c = 'red', s = 100)\n",
    "axs[1].scatter(0.1, 0.25, marker = 'x', c = 'red', s = 100)\n",
    "axs[1].scatter(0.3, 0.25, marker = 'x', c = 'red', s = 100)\n",
    "axs[1].set_xlim(0, 0.35)\n",
    "axs[1].set_ylim(0.2, 0.3)\n",
    "\n",
    "plt.savefig('plots/16.png', transparent = True, dpi = 300)"
   ]
  },
  {
   "cell_type": "markdown",
   "id": "948dabea-58be-46e3-9245-29715abc9ce5",
   "metadata": {},
   "source": [
    "For the target incidence of 30% and secondary attack rate of 25%:"
   ]
  },
  {
   "cell_type": "code",
   "execution_count": 209,
   "id": "67d5a6f4-7d56-493e-b815-834e623fcd70",
   "metadata": {},
   "outputs": [
    {
     "data": {
      "text/plain": [
       "array([0.12])"
      ]
     },
     "execution_count": 209,
     "metadata": {},
     "output_type": "execute_result"
    }
   ],
   "source": [
    "cc[(mean_idcs >= 0.29) & (mean_idcs <= 0.31) & (mean_sars >= 0.235) & (mean_sars <= 0.265)]"
   ]
  },
  {
   "cell_type": "code",
   "execution_count": 210,
   "id": "5641fa43-4a21-4f5c-a01a-9c37956e19fd",
   "metadata": {},
   "outputs": [
    {
     "data": {
      "text/plain": [
       "array([59.])"
      ]
     },
     "execution_count": 210,
     "metadata": {},
     "output_type": "execute_result"
    }
   ],
   "source": [
    "hh[(mean_idcs >= 0.29) & (mean_idcs <= 0.31) & (mean_sars >= 0.235) & (mean_sars <= 0.265)]"
   ]
  },
  {
   "cell_type": "code",
   "execution_count": 211,
   "id": "e6eff249-a7e3-43e2-b336-5176c95cac5c",
   "metadata": {},
   "outputs": [
    {
     "data": {
      "text/plain": [
       "array([0.300575])"
      ]
     },
     "execution_count": 211,
     "metadata": {},
     "output_type": "execute_result"
    }
   ],
   "source": [
    "mean_idcs[(cc == 0.12) & (hh == 59)]"
   ]
  },
  {
   "cell_type": "code",
   "execution_count": 212,
   "id": "dd85a6d0-78a1-4700-a2f8-d5b271b3cfa8",
   "metadata": {},
   "outputs": [
    {
     "data": {
      "text/plain": [
       "array([0.26196514])"
      ]
     },
     "execution_count": 212,
     "metadata": {},
     "output_type": "execute_result"
    }
   ],
   "source": [
    "mean_sars[(cc == 0.12) & (hh == 59)]"
   ]
  },
  {
   "cell_type": "markdown",
   "id": "2b5d96b9-6417-4102-9fdd-0070a47427b3",
   "metadata": {},
   "source": [
    "For the second target:"
   ]
  },
  {
   "cell_type": "code",
   "execution_count": 213,
   "id": "5f0c2084-56b1-4267-8eb9-36f5f255edb8",
   "metadata": {},
   "outputs": [
    {
     "data": {
      "text/plain": [
       "array([0.08])"
      ]
     },
     "execution_count": 213,
     "metadata": {},
     "output_type": "execute_result"
    }
   ],
   "source": [
    "cc[(mean_idcs >= 0.09) & (mean_idcs <= 0.11) & (mean_sars >= 0.235) & (mean_sars <= 0.265)]"
   ]
  },
  {
   "cell_type": "code",
   "execution_count": 214,
   "id": "ee40e459-ebbd-43a9-8b3f-06db06f81f6d",
   "metadata": {},
   "outputs": [
    {
     "data": {
      "text/plain": [
       "array([55.5])"
      ]
     },
     "execution_count": 214,
     "metadata": {},
     "output_type": "execute_result"
    }
   ],
   "source": [
    "hh[(mean_idcs >= 0.09) & (mean_idcs <= 0.11) & (mean_sars >= 0.235) & (mean_sars <= 0.265)]"
   ]
  },
  {
   "cell_type": "markdown",
   "id": "345c66a0-256c-4c62-8c3c-526df2e15001",
   "metadata": {},
   "source": [
    "For the third target:"
   ]
  },
  {
   "cell_type": "code",
   "execution_count": 215,
   "id": "fadc4ba8-87ee-40ca-82a4-931865a05ef0",
   "metadata": {},
   "outputs": [
    {
     "data": {
      "text/plain": [
       "array([0.06])"
      ]
     },
     "execution_count": 215,
     "metadata": {},
     "output_type": "execute_result"
    }
   ],
   "source": [
    "cc[(mean_idcs >= 0.045) & (mean_idcs <= 0.055) & (mean_sars >= 0.245) & (mean_sars <= 0.255)]"
   ]
  },
  {
   "cell_type": "code",
   "execution_count": 216,
   "id": "0cb9c39a-83f2-4b2e-b252-981eb10468ab",
   "metadata": {},
   "outputs": [
    {
     "data": {
      "text/plain": [
       "array([58.5])"
      ]
     },
     "execution_count": 216,
     "metadata": {},
     "output_type": "execute_result"
    }
   ],
   "source": [
    "hh[(mean_idcs >= 0.045) & (mean_idcs <= 0.055) & (mean_sars >= 0.245) & (mean_sars <= 0.255)]"
   ]
  },
  {
   "cell_type": "code",
   "execution_count": 217,
   "id": "f48eb848-7052-478a-ad73-5ca2307d6557",
   "metadata": {},
   "outputs": [
    {
     "data": {
      "text/plain": [
       "array([0.04935])"
      ]
     },
     "execution_count": 217,
     "metadata": {},
     "output_type": "execute_result"
    }
   ],
   "source": [
    "mean_idcs[(cc == 0.06) & (hh == 58.5)]"
   ]
  },
  {
   "cell_type": "code",
   "execution_count": 219,
   "id": "f9a008a7-e029-4a94-8da7-47178c7ad8a8",
   "metadata": {},
   "outputs": [
    {
     "data": {
      "text/plain": [
       "array([0.2517813])"
      ]
     },
     "execution_count": 219,
     "metadata": {},
     "output_type": "execute_result"
    }
   ],
   "source": [
    "mean_sars[(cc == 0.06) & (hh == 58.5)]"
   ]
  },
  {
   "cell_type": "markdown",
   "id": "020554c6-7e97-4aee-a28d-9fa740b815d2",
   "metadata": {},
   "source": [
    "## Finding new grid search range"
   ]
  },
  {
   "cell_type": "code",
   "execution_count": 222,
   "id": "669a0625-49a0-47e1-9842-e50dae2da7cf",
   "metadata": {},
   "outputs": [
    {
     "data": {
      "text/plain": [
       "array([0.12, 0.12, 0.12, 0.12, 0.12, 0.12, 0.12, 0.12, 0.12, 0.12])"
      ]
     },
     "execution_count": 222,
     "metadata": {},
     "output_type": "execute_result"
    }
   ],
   "source": [
    "cc[(mean_idcs >= 0.27) & (mean_idcs <= 0.32) & (mean_sars >= 0.23) & (mean_sars <= 0.27)]"
   ]
  },
  {
   "cell_type": "code",
   "execution_count": 223,
   "id": "490508d3-021e-468b-84b3-71b4d181f9d8",
   "metadata": {},
   "outputs": [
    {
     "data": {
      "text/plain": [
       "array([47. , 48. , 50. , 50.5, 51.5, 53.5, 54. , 56.5, 59. , 62.5])"
      ]
     },
     "execution_count": 223,
     "metadata": {},
     "output_type": "execute_result"
    }
   ],
   "source": [
    "hh[(mean_idcs >= 0.27) & (mean_idcs <= 0.32) & (mean_sars >= 0.23) & (mean_sars <= 0.27)]"
   ]
  },
  {
   "cell_type": "code",
   "execution_count": 224,
   "id": "9a67f0aa-8a1a-43a5-a827-2172e5e1a3b8",
   "metadata": {},
   "outputs": [
    {
     "data": {
      "text/plain": [
       "array([0.08, 0.08, 0.08, 0.08, 0.08, 0.08, 0.08])"
      ]
     },
     "execution_count": 224,
     "metadata": {},
     "output_type": "execute_result"
    }
   ],
   "source": [
    "cc[(mean_idcs >= 0.08) & (mean_idcs <= 0.12) & (mean_sars >= 0.23) & (mean_sars <= 0.27)]"
   ]
  },
  {
   "cell_type": "code",
   "execution_count": 225,
   "id": "68523e6a-164e-4d92-9362-928b2368d20f",
   "metadata": {},
   "outputs": [
    {
     "data": {
      "text/plain": [
       "array([55.5, 56. , 56.5, 57. , 59.5, 61.5, 63. ])"
      ]
     },
     "execution_count": 225,
     "metadata": {},
     "output_type": "execute_result"
    }
   ],
   "source": [
    "hh[(mean_idcs >= 0.08) & (mean_idcs <= 0.12) & (mean_sars >= 0.23) & (mean_sars <= 0.27)]"
   ]
  },
  {
   "cell_type": "code",
   "execution_count": 226,
   "id": "3fe2fa81-e506-4414-b7d0-6a4642c1e043",
   "metadata": {},
   "outputs": [
    {
     "data": {
      "text/plain": [
       "array([0.06, 0.06, 0.08, 0.06, 0.08, 0.08, 0.08, 0.06, 0.06, 0.06, 0.06,\n",
       "       0.06, 0.08, 0.06, 0.06, 0.06])"
      ]
     },
     "execution_count": 226,
     "metadata": {},
     "output_type": "execute_result"
    }
   ],
   "source": [
    "cc[(mean_idcs >= 0.03) & (mean_idcs <= 0.07) & (mean_sars >= 0.23) & (mean_sars <= 0.27)]"
   ]
  },
  {
   "cell_type": "code",
   "execution_count": 227,
   "id": "03693b47-4de8-4451-ba51-ac66ed38e4f3",
   "metadata": {},
   "outputs": [
    {
     "data": {
      "text/plain": [
       "array([47. , 48. , 48.5, 51. , 52. , 52.5, 53.5, 54.5, 56. , 57.5, 58. ,\n",
       "       58.5, 58.5, 59.5, 62. , 62.5])"
      ]
     },
     "execution_count": 227,
     "metadata": {},
     "output_type": "execute_result"
    }
   ],
   "source": [
    "hh[(mean_idcs >= 0.03) & (mean_idcs <= 0.07) & (mean_sars >= 0.23) & (mean_sars <= 0.27)]"
   ]
  }
 ],
 "metadata": {
  "kernelspec": {
   "display_name": "Python 3 (ipykernel)",
   "language": "python",
   "name": "python3"
  },
  "language_info": {
   "codemirror_mode": {
    "name": "ipython",
    "version": 3
   },
   "file_extension": ".py",
   "mimetype": "text/x-python",
   "name": "python",
   "nbconvert_exporter": "python",
   "pygments_lexer": "ipython3",
   "version": "3.8.12"
  }
 },
 "nbformat": 4,
 "nbformat_minor": 5
}
