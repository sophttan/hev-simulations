{
 "cells": [
  {
   "cell_type": "code",
   "execution_count": 1,
   "id": "08c10f3a-8443-4ac6-bfef-82deebb23976",
   "metadata": {},
   "outputs": [],
   "source": [
    "import numpy as np\n",
    "import pandas as pd\n",
    "from scipy import stats\n",
    "\n",
    "from matplotlib import pyplot as plt\n",
    "from matplotlib.patches import Patch"
   ]
  },
  {
   "cell_type": "code",
   "execution_count": 2,
   "id": "ff9692bc-1601-4aac-9307-cdafb9130c82",
   "metadata": {},
   "outputs": [],
   "source": [
    "time = 365\n",
    "inc = 28\n",
    "inf = 7"
   ]
  },
  {
   "cell_type": "code",
   "execution_count": 3,
   "id": "fa9a0a4c-93be-4165-a860-7795e41147f3",
   "metadata": {
    "tags": []
   },
   "outputs": [],
   "source": [
    "def create_hh():\n",
    "    hh_size = np.random.choice([3, 4, 5, 6], size = 340, replace = True)\n",
    "    hh_size = hh_size[np.cumsum(hh_size) < 1000]\n",
    "    \n",
    "    leftover = 1000 - hh_size.sum()\n",
    "    if leftover < 3:\n",
    "        # Randomly sample leftover amount indices from hh_size, and add one\n",
    "        hh = np.arange(len(hh_size))\n",
    "        idx = np.random.choice(hh[hh_size < 6], size = leftover, replace = False)\n",
    "        hh_size[idx] += 1\n",
    "    else:\n",
    "        hh_size = np.append(hh_size, leftover)\n",
    "    return hh_size"
   ]
  },
  {
   "cell_type": "code",
   "execution_count": 4,
   "id": "73d77397-ddab-4163-b844-94f47999be70",
   "metadata": {},
   "outputs": [],
   "source": [
    "def SEIR(beta_H, beta_C, inc, inf):\n",
    "    hh_size = create_hh()\n",
    "    \n",
    "    data = pd.DataFrame({'ID': range(1000),\n",
    "                         'SIZE': np.repeat(hh_size, repeats = hh_size),\n",
    "                         'HH': np.repeat(range(len(hh_size)), repeats = hh_size),\n",
    "                         'S': np.append(0, np.ones(999)),\n",
    "                         'E': np.append(1, np.zeros(999)),\n",
    "                         'E_count': np.append(1, np.zeros(999)),\n",
    "                         'I': np.zeros(1000),\n",
    "                         'I_count': np.zeros(1000),\n",
    "                         'R': np.zeros(1000),\n",
    "                         'INC': np.append(np.round(stats.norm.rvs(inc, 2)), np.zeros(999)),\n",
    "                         'INF': np.zeros(1000)\n",
    "                        })\n",
    "    \n",
    "    results = data.loc[:, 'ID':'HH']\n",
    "    results['TYPE'] = np.nan\n",
    "    results.loc[0, 'TYPE'] = '0'\n",
    "    results['TIME'] = np.nan\n",
    "    results.loc[0, 'TIME'] = 0\n",
    "    \n",
    "    for t in range(time):\n",
    "        if t % 10 == 0: print(t, end = ' ')\n",
    "        recovered = (data['INF'] > 0) & (data['I_count'] == data['INF'])\n",
    "        if sum(recovered) > 0:\n",
    "            data.loc[recovered, 'R'] = 1\n",
    "            data.loc[recovered, 'I'] = 0\n",
    "\n",
    "            # Why is this count set to 0 once they recover?\n",
    "            data.loc[recovered, 'I_count'] = 0\n",
    "\n",
    "        new_inf = (data['INC'] > 0) & (data['E_count'] == data['INC'])\n",
    "        num_new_inf = sum(new_inf)\n",
    "\n",
    "        if num_new_inf > 0:\n",
    "            # Why do new infections have SD = 1?\n",
    "            random_inf = np.round(stats.norm.rvs(inf, 1, size = num_new_inf))\n",
    "            data.loc[new_inf, 'I'] = 1\n",
    "            data.loc[new_inf, 'INF'] = random_inf\n",
    "            data.loc[new_inf, 'E'] = 0\n",
    "\n",
    "            # Why is this set to 0?\n",
    "            data.loc[new_inf, 'E_count'] = 0\n",
    "\n",
    "        I_H = data.groupby('HH').sum()['I']\n",
    "        summary = pd.DataFrame({'I_H': I_H, \n",
    "                                'I_C': data.sum()['I'] - I_H\n",
    "                               })\n",
    "        dd = data[['HH', 'S']].copy()\n",
    "\n",
    "        dd['I_H'] = dd.apply(lambda x: summary.loc[x['HH'], 'I_H'], axis = 1)\n",
    "        dd['I_C'] = dd.apply(lambda x: summary.loc[x['HH'], 'I_C'], axis = 1)\n",
    "\n",
    "        risk_H = dd['S'] * beta_H * dd['I_H'] / 1000\n",
    "        risk_C = dd['S'] * beta_C * dd['I_C'] / 1000\n",
    "\n",
    "        new_inf_H = stats.binom.rvs(1, risk_H, size = data.shape[0])\n",
    "        new_inf_C = stats.binom.rvs(1, risk_C, size = data.shape[0])\n",
    "        new_exposed = (new_inf_H == 1) | (new_inf_C == 1)\n",
    "\n",
    "        num_new_exposed = sum(new_exposed)\n",
    "        if num_new_exposed > 0:\n",
    "            data.loc[new_exposed, 'E'] = 1\n",
    "            # Why is this calculated only upon exposure?\n",
    "            random_inc = np.round(stats.norm.rvs(inc, 2, size = num_new_exposed))\n",
    "            data.loc[new_exposed, 'E'] = 1\n",
    "            data.loc[new_exposed, 'INC'] = random_inc\n",
    "\n",
    "            results['TYPE'].where(~((new_inf_H == 1) & (new_inf_C == 1)) | ~pd.isna(results['TYPE']), 'B', inplace = True)\n",
    "            results['TYPE'].where(~(new_inf_H == 1) | ~pd.isna(results['TYPE']), 'H', inplace = True)\n",
    "            results['TYPE'].where(~(new_inf_C == 1) | ~pd.isna(results['TYPE']), 'C', inplace = True)\n",
    "            results['TIME'].where(~(new_exposed == 1) | ~pd.isna(results['TIME']), t, inplace = True)\n",
    "        \n",
    "        data.loc[data['E'] == 1, 'E_count'] += 1\n",
    "        data.loc[data['I'] == 1, 'I_count'] += 1\n",
    "        data.loc[data['E'] == 1, 'S'] = 0\n",
    "\n",
    "    return results\n",
    "        "
   ]
  },
  {
   "cell_type": "code",
   "execution_count": 5,
   "id": "38af34c5-2ed4-4f91-9796-c31762bd356b",
   "metadata": {},
   "outputs": [],
   "source": [
    "def metrics(results):\n",
    "    state = results[~pd.isna(results['TIME'])]\n",
    "    incidence = state.shape[0]/1000\n",
    "    \n",
    "    prop_hh = np.nan\n",
    "    if incidence != 0:\n",
    "        prop_hh = state[state['TYPE'] == 'H'].shape[0] / state.shape[0]\n",
    "    \n",
    "    return incidence, prop_hh"
   ]
  },
  {
   "cell_type": "code",
   "execution_count": 6,
   "id": "d509be79-d278-4ab0-923e-221f62e231d1",
   "metadata": {},
   "outputs": [],
   "source": [
    "def mse(results, target):\n",
    "    return ((np.array(metrics(results)) - target)**2).sum()\n",
    "\n",
    "def bce(results, target):\n",
    "    incidence, prop_hh = metrics(results)\n",
    "    \n",
    "    incidence_loss = target[0] * np.log(incidence + eps) + (1 - target[0]) * np.log(1 - incidence + eps)\n",
    "    prop_hh_loss = target[1] * np.log(prop_hh + eps) + (1 - target[1]) * np.log(1 - prop_hh + eps)\n",
    "    return incidence_loss + prop_hh_loss"
   ]
  },
  {
   "cell_type": "markdown",
   "id": "25e542bf-f32e-469f-a9b6-c7e9a8a60557",
   "metadata": {
    "jp-MarkdownHeadingCollapsed": true,
    "tags": []
   },
   "source": [
    "# 10 February"
   ]
  },
  {
   "cell_type": "code",
   "execution_count": null,
   "id": "a9be3031-ac13-4cd9-85dc-d2e5a35decef",
   "metadata": {},
   "outputs": [],
   "source": [
    "idcs = np.load('results/archive/idcs_3.npy')\n",
    "prps = np.load('results/archive/prps_3.npy')\n",
    "\n",
    "beta_C_vals = np.load('results/archive/beta_C_vals_3.npy')\n",
    "beta_H_vals = np.load('results/archive/beta_H_vals_3.npy')\n",
    "cc, hh = np.meshgrid(beta_C_vals, beta_H_vals)"
   ]
  },
  {
   "cell_type": "code",
   "execution_count": null,
   "id": "4b858666-7593-4b00-82ca-05f81d5efa4b",
   "metadata": {},
   "outputs": [],
   "source": [
    "fig, axs = plt.subplots(1, 2, figsize = (9.5, 3.5))\n",
    "\n",
    "plot_hh = axs[0].scatter(idcs.flatten(), prps.flatten(), c = hh.flatten(), alpha = 0.5)\n",
    "axs[0].set_xlabel(r'$I$')\n",
    "axs[0].set_ylabel(r'$p_{\\rm HH}$')\n",
    "plt.colorbar(plot_hh, ax = axs[0])\n",
    "\n",
    "axs[0].scatter(0.05, 0.25, marker = 'x', c = 'red', s = 100)\n",
    "axs[0].scatter(0.05, 0.5, marker = 'x', c = 'red', s = 100)\n",
    "axs[0].scatter(0.05, 0.75, marker = 'x', c = 'red', s = 100)\n",
    "\n",
    "axs[0].scatter(0.1, 0.25, marker = 'x', c = 'red', s = 100)\n",
    "axs[0].scatter(0.1, 0.5, marker = 'x', c = 'red', s = 100)\n",
    "axs[0].scatter(0.1, 0.75, marker = 'x', c = 'red', s = 100)\n",
    "\n",
    "axs[0].scatter(0.3, 0.25, marker = 'x', c = 'red', s = 100)\n",
    "axs[0].scatter(0.3, 0.5, marker = 'x', c = 'red', s = 100)\n",
    "axs[0].scatter(0.3, 0.75, marker = 'x', c = 'red', s = 100)\n",
    "axs[0].set_title(r'$\\beta_H$', loc = 'left')\n",
    "\n",
    "plot_cc = axs[1].scatter(idcs.flatten(), prps.flatten(), c = cc.flatten(), alpha = 0.5)\n",
    "axs[1].set_xlabel(r'$I$')\n",
    "axs[1].set_ylabel(r'$p_{\\rm HH}$')\n",
    "plt.colorbar(plot_cc, ax = axs[1])\n",
    "\n",
    "axs[1].scatter(0.05, 0.25, marker = 'x', c = 'red', s = 100)\n",
    "axs[1].scatter(0.05, 0.5, marker = 'x', c = 'red', s = 100)\n",
    "axs[1].scatter(0.05, 0.75, marker = 'x', c = 'red', s = 100)\n",
    "\n",
    "axs[1].scatter(0.1, 0.25, marker = 'x', c = 'red', s = 100)\n",
    "axs[1].scatter(0.1, 0.5, marker = 'x', c = 'red', s = 100)\n",
    "axs[1].scatter(0.1, 0.75, marker = 'x', c = 'red', s = 100)\n",
    "\n",
    "axs[1].scatter(0.3, 0.25, marker = 'x', c = 'red', s = 100)\n",
    "axs[1].scatter(0.3, 0.5, marker = 'x', c = 'red', s = 100)\n",
    "axs[1].scatter(0.3, 0.75, marker = 'x', c = 'red', s = 100)\n",
    "axs[1].set_title(r'$\\beta_C$', loc = 'left')\n",
    "\n",
    "plt.savefig('plots/prp_vs_inc_1.png', transparent = True, dpi = 300)"
   ]
  },
  {
   "cell_type": "code",
   "execution_count": null,
   "id": "c584f58d-9e7b-48a2-9678-687e5b77c689",
   "metadata": {},
   "outputs": [],
   "source": [
    "idx = (idcs >= 0.09) & (idcs <= 0.11) & (prps >= 0.2) & (prps <= 0.3)"
   ]
  },
  {
   "cell_type": "code",
   "execution_count": null,
   "id": "29612a36-ba71-4d36-bdca-c8c06ccfbe9f",
   "metadata": {},
   "outputs": [],
   "source": [
    "hh[idx], cc[idx]"
   ]
  },
  {
   "cell_type": "code",
   "execution_count": null,
   "id": "b10cddcd-46f4-499d-80de-694322ff33c2",
   "metadata": {},
   "outputs": [],
   "source": [
    "hh"
   ]
  },
  {
   "cell_type": "code",
   "execution_count": null,
   "id": "83ee2905-f8de-489f-b40c-35052a597dbf",
   "metadata": {},
   "outputs": [],
   "source": [
    "cc"
   ]
  },
  {
   "cell_type": "code",
   "execution_count": null,
   "id": "e0b54308-42a9-4d0d-af62-46aab153f6fd",
   "metadata": {},
   "outputs": [],
   "source": [
    "results = SEIR(23.8, 0.22, num_weeks_inf, num_weeks_inc)"
   ]
  },
  {
   "cell_type": "code",
   "execution_count": null,
   "id": "42aed7e9-dc75-4eed-8ad3-f412f3dc1bf2",
   "metadata": {},
   "outputs": [],
   "source": [
    "metrics(results)"
   ]
  },
  {
   "cell_type": "markdown",
   "id": "8139042a-1fb5-438a-8a96-95af81c6494e",
   "metadata": {},
   "source": [
    "## More Results"
   ]
  },
  {
   "cell_type": "code",
   "execution_count": null,
   "id": "12ec1300-dc31-4378-8450-73893476d396",
   "metadata": {},
   "outputs": [],
   "source": [
    "idcs = np.load('results/1/idcs.npy')\n",
    "prps = np.load('results/1/prps.npy')\n",
    "\n",
    "cc = np.load('results/1/cc.npy')\n",
    "hh = np.load('results/1/hh.npy')"
   ]
  },
  {
   "cell_type": "code",
   "execution_count": null,
   "id": "2f836e8c-6755-44d2-819f-1fcc274d09ad",
   "metadata": {},
   "outputs": [],
   "source": [
    "fig, axs = plt.subplots(1, 2, figsize = (9.5, 3.5))\n",
    "\n",
    "plot_hh = axs[0].scatter(idcs.flatten(), prps.flatten(), \n",
    "                         c = np.repeat(hh.flatten(), 5), alpha = 0.5)\n",
    "axs[0].set_xlabel(r'$I$')\n",
    "axs[0].set_ylabel(r'$p_{\\rm HH}$')\n",
    "axs[0].set_aspect('equal')\n",
    "fig.colorbar(plot_hh, ax = axs[0])\n",
    "axs[0].set_title(r'$\\beta_H$', loc = 'left')\n",
    "axs[0].scatter(0.05, 0.25, marker = 'x', c = 'red', s = 100)\n",
    "axs[0].scatter(0.05, 0.5, marker = 'x', c = 'red', s = 100)\n",
    "axs[0].scatter(0.05, 0.75, marker = 'x', c = 'red', s = 100)\n",
    "\n",
    "axs[0].scatter(0.1, 0.25, marker = 'x', c = 'red', s = 100)\n",
    "axs[0].scatter(0.1, 0.5, marker = 'x', c = 'red', s = 100)\n",
    "axs[0].scatter(0.1, 0.75, marker = 'x', c = 'red', s = 100)\n",
    "\n",
    "axs[0].scatter(0.3, 0.25, marker = 'x', c = 'red', s = 100)\n",
    "axs[0].scatter(0.3, 0.5, marker = 'x', c = 'red', s = 100)\n",
    "axs[0].scatter(0.3, 0.75, marker = 'x', c = 'red', s = 100)\n",
    "\n",
    "plot_cc = axs[1].scatter(idcs.flatten(), prps.flatten(), \n",
    "                         c = np.repeat(cc.flatten(), 5), alpha = 0.5)\n",
    "axs[1].set_xlabel(r'$I$')\n",
    "axs[1].set_ylabel(r'$p_{\\rm HH}$')\n",
    "axs[1].set_aspect('equal')\n",
    "fig.colorbar(plot_hh, ax = axs[1])\n",
    "axs[1].set_title(r'$\\beta_C$', loc = 'left')\n",
    "axs[1].scatter(0.05, 0.25, marker = 'x', c = 'red', s = 100)\n",
    "axs[1].scatter(0.05, 0.5, marker = 'x', c = 'red', s = 100)\n",
    "axs[1].scatter(0.05, 0.75, marker = 'x', c = 'red', s = 100)\n",
    "\n",
    "axs[1].scatter(0.1, 0.25, marker = 'x', c = 'red', s = 100)\n",
    "axs[1].scatter(0.1, 0.5, marker = 'x', c = 'red', s = 100)\n",
    "axs[1].scatter(0.1, 0.75, marker = 'x', c = 'red', s = 100)\n",
    "\n",
    "axs[1].scatter(0.3, 0.25, marker = 'x', c = 'red', s = 100)\n",
    "axs[1].scatter(0.3, 0.5, marker = 'x', c = 'red', s = 100)\n",
    "axs[1].scatter(0.3, 0.75, marker = 'x', c = 'red', s = 100)\n",
    "\n",
    "plt.savefig('prp_vs_inc_2.png', transparent = True, dpi = 300)"
   ]
  },
  {
   "cell_type": "markdown",
   "id": "00c2814c-1801-42fc-a3cb-339ba2be3afe",
   "metadata": {
    "jp-MarkdownHeadingCollapsed": true,
    "tags": []
   },
   "source": [
    "# 14 February"
   ]
  },
  {
   "cell_type": "raw",
   "id": "58ff0f34-cd43-4d73-9bf2-667ec529a3af",
   "metadata": {},
   "source": [
    "# rerun a grid search where you average the result of 5 or 10 values\n",
    "# hand calculate some extreme scenarios\n",
    "# where is the issue - model design, parameter range, or code bug.\n",
    "# run single simulations of extreme scenarios"
   ]
  },
  {
   "cell_type": "markdown",
   "id": "8e538c4e-94bc-4845-8c23-d2b392840370",
   "metadata": {},
   "source": [
    "Results for a $\\beta_H$ grid of $[20, 20.8, 21.6, \\ldots, 39.2, 40]$ and $\\beta_C$ grid of $[0, 0.04, 0.08, \\ldots, 0.96, 1]$."
   ]
  },
  {
   "cell_type": "code",
   "execution_count": null,
   "id": "50e0beda-8da3-4971-9fee-4cb4c84539ca",
   "metadata": {},
   "outputs": [],
   "source": [
    "idcs = np.load('results/2/idcs.npy')\n",
    "prps = np.load('results/2/prps.npy')\n",
    "\n",
    "cc = np.load('results/2/cc.npy')\n",
    "hh = np.load('results/2/hh.npy')"
   ]
  },
  {
   "cell_type": "code",
   "execution_count": null,
   "id": "15f3bfc6-a4fc-416c-8ba2-8677d8513ab9",
   "metadata": {},
   "outputs": [],
   "source": [
    "mean_idcs = idcs.mean(axis = 2)\n",
    "mean_prps = prps.mean(axis = 2)"
   ]
  },
  {
   "cell_type": "code",
   "execution_count": null,
   "id": "ec62b6e4-46f2-4cb3-8607-dd6f6198cef9",
   "metadata": {},
   "outputs": [],
   "source": [
    "fig, axs = plt.subplots(1, 2, figsize = (11, 3.5))\n",
    "\n",
    "plot_hh = axs[0].scatter(mean_idcs.flatten(), mean_prps.flatten(), \n",
    "                         c = hh.flatten(), alpha = 0.5)\n",
    "\n",
    "axs[0].set_xlabel(r'$I$')\n",
    "axs[0].set_ylabel(r'$p_{\\rm HH}$')\n",
    "axs[0].set_aspect('equal')\n",
    "fig.colorbar(plot_hh, ax = axs[0])\n",
    "axs[0].set_title(r'$\\beta_H$', loc = 'left')\n",
    "axs[0].scatter(0.05, 0.25, marker = 'x', c = 'red', s = 100)\n",
    "axs[0].scatter(0.05, 0.5, marker = 'x', c = 'red', s = 100)\n",
    "axs[0].scatter(0.05, 0.75, marker = 'x', c = 'red', s = 100)\n",
    "\n",
    "axs[0].scatter(0.1, 0.25, marker = 'x', c = 'red', s = 100)\n",
    "axs[0].scatter(0.1, 0.5, marker = 'x', c = 'red', s = 100)\n",
    "axs[0].scatter(0.1, 0.75, marker = 'x', c = 'red', s = 100)\n",
    "\n",
    "axs[0].scatter(0.3, 0.25, marker = 'x', c = 'red', s = 100)\n",
    "axs[0].scatter(0.3, 0.5, marker = 'x', c = 'red', s = 100)\n",
    "axs[0].scatter(0.3, 0.75, marker = 'x', c = 'red', s = 100)\n",
    "\n",
    "plot_cc = axs[1].scatter(mean_idcs.flatten(), mean_prps.flatten(), \n",
    "                         c = cc.flatten(), alpha = 0.5)\n",
    "axs[1].set_xlabel(r'$I$')\n",
    "axs[1].set_ylabel(r'$p_{\\rm HH}$')\n",
    "axs[1].set_aspect('equal')\n",
    "fig.colorbar(plot_hh, ax = axs[1])\n",
    "axs[1].set_title(r'$\\beta_C$', loc = 'left')\n",
    "axs[1].scatter(0.05, 0.25, marker = 'x', c = 'red', s = 100)\n",
    "axs[1].scatter(0.05, 0.5, marker = 'x', c = 'red', s = 100)\n",
    "axs[1].scatter(0.05, 0.75, marker = 'x', c = 'red', s = 100)\n",
    "\n",
    "axs[1].scatter(0.1, 0.25, marker = 'x', c = 'red', s = 100)\n",
    "axs[1].scatter(0.1, 0.5, marker = 'x', c = 'red', s = 100)\n",
    "axs[1].scatter(0.1, 0.75, marker = 'x', c = 'red', s = 100)\n",
    "\n",
    "axs[1].scatter(0.3, 0.25, marker = 'x', c = 'red', s = 100)\n",
    "axs[1].scatter(0.3, 0.5, marker = 'x', c = 'red', s = 100)\n",
    "axs[1].scatter(0.3, 0.75, marker = 'x', c = 'red', s = 100)\n",
    "\n",
    "plt.savefig('plots/prp_vs_inc_2.png', transparent = True, dpi = 300)"
   ]
  },
  {
   "cell_type": "markdown",
   "id": "1c6813d3-b980-441d-a33d-a523f89ad024",
   "metadata": {},
   "source": [
    "Results for a $\\beta_H$ grid of $[10, 12, 14, \\ldots, 48, 50]$ and $\\beta_C$ grid of $[0, 0.1, 0.2, \\ldots, 1.9, 2]$."
   ]
  },
  {
   "cell_type": "code",
   "execution_count": null,
   "id": "c2131a30-0f23-41b1-a9dc-c8cf44a1d0eb",
   "metadata": {},
   "outputs": [],
   "source": [
    "idcs = np.load('results/3/idcs_3.npy')\n",
    "prps = np.load('results/3/prps_3.npy')\n",
    "\n",
    "cc = np.load('results/3/cc_3.npy')\n",
    "hh = np.load('results/3/hh_3.npy')"
   ]
  },
  {
   "cell_type": "code",
   "execution_count": null,
   "id": "9c18b984-60f2-4bd3-8f2a-e0c964d326e6",
   "metadata": {},
   "outputs": [],
   "source": [
    "mean_idcs = idcs.mean(axis = 2)\n",
    "mean_prps = prps.mean(axis = 2)"
   ]
  },
  {
   "cell_type": "code",
   "execution_count": null,
   "id": "541c400d-20ae-4a8c-b38c-57744a5ca102",
   "metadata": {},
   "outputs": [],
   "source": [
    "fig, axs = plt.subplots(1, 2, figsize = (11, 3.5))\n",
    "\n",
    "plot_hh = axs[0].scatter(mean_idcs.flatten(), mean_prps.flatten(), \n",
    "                         c = hh.flatten(), alpha = 0.5)\n",
    "axs[0].set_xlabel(r'$I$')\n",
    "axs[0].set_ylabel(r'$p_{\\rm HH}$')\n",
    "axs[0].set_aspect('equal')\n",
    "fig.colorbar(plot_hh, ax = axs[0])\n",
    "axs[0].set_title(r'$\\beta_H$', loc = 'left')\n",
    "axs[0].scatter(0.05, 0.25, marker = 'x', c = 'red', s = 100)\n",
    "axs[0].scatter(0.05, 0.5, marker = 'x', c = 'red', s = 100)\n",
    "axs[0].scatter(0.05, 0.75, marker = 'x', c = 'red', s = 100)\n",
    "\n",
    "axs[0].scatter(0.1, 0.25, marker = 'x', c = 'red', s = 100)\n",
    "axs[0].scatter(0.1, 0.5, marker = 'x', c = 'red', s = 100)\n",
    "axs[0].scatter(0.1, 0.75, marker = 'x', c = 'red', s = 100)\n",
    "\n",
    "axs[0].scatter(0.3, 0.25, marker = 'x', c = 'red', s = 100)\n",
    "axs[0].scatter(0.3, 0.5, marker = 'x', c = 'red', s = 100)\n",
    "axs[0].scatter(0.3, 0.75, marker = 'x', c = 'red', s = 100)\n",
    "\n",
    "plot_cc = axs[1].scatter(mean_idcs.flatten(), mean_prps.flatten(), \n",
    "                         c = cc.flatten(), alpha = 0.5)\n",
    "axs[1].set_xlabel(r'$I$')\n",
    "axs[1].set_ylabel(r'$p_{\\rm HH}$')\n",
    "axs[1].set_aspect('equal')\n",
    "fig.colorbar(plot_hh, ax = axs[1])\n",
    "axs[1].set_title(r'$\\beta_C$', loc = 'left')\n",
    "axs[1].scatter(0.05, 0.25, marker = 'x', c = 'red', s = 100)\n",
    "axs[1].scatter(0.05, 0.5, marker = 'x', c = 'red', s = 100)\n",
    "axs[1].scatter(0.05, 0.75, marker = 'x', c = 'red', s = 100)\n",
    "\n",
    "axs[1].scatter(0.1, 0.25, marker = 'x', c = 'red', s = 100)\n",
    "axs[1].scatter(0.1, 0.5, marker = 'x', c = 'red', s = 100)\n",
    "axs[1].scatter(0.1, 0.75, marker = 'x', c = 'red', s = 100)\n",
    "\n",
    "axs[1].scatter(0.3, 0.25, marker = 'x', c = 'red', s = 100)\n",
    "axs[1].scatter(0.3, 0.5, marker = 'x', c = 'red', s = 100)\n",
    "axs[1].scatter(0.3, 0.75, marker = 'x', c = 'red', s = 100)\n",
    "\n",
    "plt.savefig('plots/prp_vs_inc_3.png', transparent = True, dpi = 300)"
   ]
  },
  {
   "cell_type": "markdown",
   "id": "aafda6d5-329a-4657-9666-d1d680f0f965",
   "metadata": {
    "jp-MarkdownHeadingCollapsed": true,
    "tags": []
   },
   "source": [
    "# 15 February"
   ]
  },
  {
   "cell_type": "code",
   "execution_count": null,
   "id": "cab3d7c0-e43d-49c7-97aa-134d56492ac8",
   "metadata": {},
   "outputs": [],
   "source": [
    "idcs_1 = np.load('results/4/idcs_1.npy')\n",
    "prps_1 = np.load('results/4/prps_1.npy')\n",
    "\n",
    "idcs_2 = np.load('results/4/idcs_2.npy')\n",
    "prps_2 = np.load('results/4/prps_2.npy')\n",
    "\n",
    "idcs_3 = np.load('results/4/idcs_3.npy')\n",
    "prps_3 = np.load('results/4/prps_3.npy')\n",
    "\n",
    "beta_H_vals = [20.6, 30, 29.6]\n",
    "beta_C_vals = [0.30, 0.12, 0.20]"
   ]
  },
  {
   "cell_type": "code",
   "execution_count": null,
   "id": "4ff4bf22-d168-4a96-b27b-246a0cf30b85",
   "metadata": {},
   "outputs": [],
   "source": [
    "fig, axs = plt.subplots(3, 2, figsize = (10, 16))\n",
    "bins = np.linspace(0, 1, 51)\n",
    "\n",
    "axs[0][0].hist(idcs_1, bins = bins)\n",
    "axs[0][1].hist(prps_1, bins = bins)\n",
    "axs[0][0].set_xlim(0, 1)\n",
    "axs[0][1].set_xlim(0, 1)\n",
    "axs[0][0].set_title(r'$\\beta_H = 20.6$, $\\beta_C = 0.30$', loc = 'left')\n",
    "axs[0][0].set_xlabel('Incidence')\n",
    "axs[0][1].set_xlabel('Proportion HH')\n",
    "\n",
    "axs[1][0].hist(idcs_2, bins = bins)\n",
    "axs[1][1].hist(prps_2, bins = bins)\n",
    "axs[1][0].set_xlim(0, 1)\n",
    "axs[1][1].set_xlim(0, 1)\n",
    "axs[1][0].set_title(r'$\\beta_H = 30$, $\\beta_C = 0.12$', loc = 'left')\n",
    "axs[1][0].set_xlabel('Incidence')\n",
    "axs[1][1].set_xlabel('Proportion of Infections from Household')\n",
    "\n",
    "axs[2][0].hist(idcs_3, bins = bins)\n",
    "axs[2][1].hist(prps_3, bins = bins)\n",
    "axs[2][0].set_xlim(0, 1)\n",
    "axs[2][1].set_xlim(0, 1)\n",
    "axs[2][0].set_title(r'$\\beta_H = 29.6$, $\\beta_C = 0.20$', loc = 'left')\n",
    "axs[2][0].set_xlabel('Incidence')\n",
    "axs[2][1].set_xlabel('Proportion of Infections from Household')\n",
    "plt.savefig('plots/param_check.png', transparent = False, dpi = 300)"
   ]
  },
  {
   "cell_type": "code",
   "execution_count": null,
   "id": "feb9abc7-4b15-4a78-8956-a448aec0db41",
   "metadata": {},
   "outputs": [],
   "source": [
    "idcs_1.mean(), prps_1.mean()"
   ]
  },
  {
   "cell_type": "code",
   "execution_count": null,
   "id": "2e6fc924-4166-468b-bb3c-6be73a515267",
   "metadata": {},
   "outputs": [],
   "source": [
    "idcs_2.mean(), prps_2.mean()"
   ]
  },
  {
   "cell_type": "code",
   "execution_count": null,
   "id": "44790fed-1fc8-4988-83df-cf71206f2a44",
   "metadata": {},
   "outputs": [],
   "source": [
    "idcs_3.mean(), prps_3.mean()"
   ]
  },
  {
   "cell_type": "code",
   "execution_count": null,
   "id": "fbef88a3-9d31-4a5d-becb-4074916cdd55",
   "metadata": {},
   "outputs": [],
   "source": [
    "idcs_3[prps_3 == 1]"
   ]
  },
  {
   "cell_type": "code",
   "execution_count": null,
   "id": "a9061507-4305-4527-a97d-68679df8622d",
   "metadata": {},
   "outputs": [],
   "source": [
    "prps_1[idcs_1 == 0]"
   ]
  },
  {
   "cell_type": "code",
   "execution_count": null,
   "id": "df5586fd-027f-44c0-8a93-a82b315704b2",
   "metadata": {},
   "outputs": [],
   "source": [
    "prps_2[idcs_2 == 0]"
   ]
  },
  {
   "cell_type": "code",
   "execution_count": null,
   "id": "70bc03ea-afaf-4f59-864e-10152ba63c87",
   "metadata": {},
   "outputs": [],
   "source": [
    "prps_3[idcs_3 == 0]"
   ]
  },
  {
   "cell_type": "markdown",
   "id": "c5578a7d-5e3b-41a1-a6e7-7c813c27b5e5",
   "metadata": {
    "tags": []
   },
   "source": [
    "# 28 February"
   ]
  },
  {
   "cell_type": "code",
   "execution_count": 7,
   "id": "2e802bbe-f9a7-49ef-a3fc-1a55498040ef",
   "metadata": {},
   "outputs": [],
   "source": [
    "def metrics(results):\n",
    "    state = results[~pd.isna(results['TIME'])]\n",
    "    i = state.shape[0]/1000\n",
    "    \n",
    "    #p_hh = np.nan\n",
    "    #if i != 0:\n",
    "    #    p_hh = state[state['TYPE'] == 'H'].shape[0] / state.shape[0]\n",
    "    #return i, p_hh\n",
    "    \n",
    "    sar = np.nan\n",
    "    if i != 0:\n",
    "        num_primary = np.sum(results.groupby('HH')['TIME'].sum() > 0) # households that were infected\n",
    "        idx = results.groupby('HH')['TYPE'].apply(lambda x: ~np.all(x.isna()))\n",
    "        num_contact = (results.groupby('HH')['SIZE'].sum()[idx]**(1/2)).sum() # total people in all those households\n",
    "        sar = state[(state['TYPE'] == 'H') | (state['TYPE'] == 'B')].shape[0] / (num_contact - num_primary)\n",
    "    \n",
    "    return i, sar"
   ]
  },
  {
   "cell_type": "code",
   "execution_count": 23,
   "id": "4121f31d-9f79-4764-98a3-f98f90f6b1a8",
   "metadata": {},
   "outputs": [],
   "source": [
    "chain = np.load('results/5/chain_2.npy')"
   ]
  },
  {
   "cell_type": "code",
   "execution_count": 24,
   "id": "55cfb9ad-9295-4fa1-a785-fc695655a86b",
   "metadata": {},
   "outputs": [
    {
     "data": {
      "text/plain": [
       "Text(0, 0.5, '$\\\\beta_C$')"
      ]
     },
     "execution_count": 24,
     "metadata": {},
     "output_type": "execute_result"
    },
    {
     "data": {
      "image/png": "[encoded data removed]",
      "text/plain": [
       "<Figure size 432x288 with 1 Axes>"
      ]
     },
     "metadata": {
      "needs_background": "light"
     },
     "output_type": "display_data"
    }
   ],
   "source": [
    "from matplotlib.collections import LineCollection\n",
    "\n",
    "x = chain[:, 0]\n",
    "y = chain[:, 1]\n",
    "cs = np.linspace(0,1,len(x))\n",
    "\n",
    "points = np.array([x, y]).T.reshape(-1, 1, 2)\n",
    "segments = np.concatenate([points[:-1], points[1:]], axis=1)\n",
    "\n",
    "fig, ax = plt.subplots()\n",
    "lc = LineCollection(segments, cmap='viridis')\n",
    "lc.set_array(cs)\n",
    "lc.set_linewidth(1)\n",
    "line = ax.add_collection(lc)\n",
    "ax.autoscale()\n",
    "plt.xlabel(r'$\\beta_H$')\n",
    "plt.ylabel(r'$\\beta_C$')\n",
    "# Plot loss value over iterations\n",
    "# Deliverables\n",
    "# Update MCMC (by Wednesday)\n",
    "# - save likelihood\n",
    "# - each iteration averages over 100 iterations (NUM_ITER)\n",
    "# Implement SAR (by Friday)\n",
    "# Test R code on local device"
   ]
  },
  {
   "cell_type": "code",
   "execution_count": 10,
   "id": "c039f20e-1c41-4b95-8861-9c75404cf2aa",
   "metadata": {},
   "outputs": [],
   "source": [
    "best = np.load('results/5/best_2.npy')"
   ]
  },
  {
   "cell_type": "code",
   "execution_count": 11,
   "id": "b08059c9-39c1-4160-9407-cd96d190cb7b",
   "metadata": {},
   "outputs": [],
   "source": [
    "beta_H, beta_C = best"
   ]
  },
  {
   "cell_type": "code",
   "execution_count": 12,
   "id": "1e47f34a-d567-4388-a0c1-48c1f261eae7",
   "metadata": {},
   "outputs": [],
   "source": [
    "idcs = np.load('results/6/idcs_5.npy')\n",
    "sars = np.load('results/6/sars_5.npy')\n",
    "\n",
    "cc = np.load('results/6/cc_5.npy')\n",
    "hh = np.load('results/6/hh_5.npy')"
   ]
  },
  {
   "cell_type": "code",
   "execution_count": 13,
   "id": "de5a8d0d-93c2-414b-aaef-a2339fcb919e",
   "metadata": {},
   "outputs": [
    {
     "data": {
      "image/png": "[encoded data removed]",
      "text/plain": [
       "<Figure size 792x252 with 4 Axes>"
      ]
     },
     "metadata": {
      "needs_background": "light"
     },
     "output_type": "display_data"
    }
   ],
   "source": [
    "fig, axs = plt.subplots(1, 2, figsize = (11, 3.5))\n",
    "\n",
    "plot_hh = axs[0].scatter(idcs.flatten(), sars.flatten(), \n",
    "                         c = hh.flatten(), alpha = 0.5)\n",
    "axs[0].set_xlabel(r'$I$')\n",
    "axs[0].set_ylabel(r'$\\rm SAR$')\n",
    "axs[0].set_aspect('equal')\n",
    "fig.colorbar(plot_hh, ax = axs[0])\n",
    "axs[0].set_title(r'$\\beta_H$', loc = 'left')\n",
    "axs[0].scatter(0.05, 0.25, marker = 'x', c = 'red', s = 100)\n",
    "axs[0].scatter(0.1, 0.25, marker = 'x', c = 'red', s = 100)\n",
    "axs[0].scatter(0.3, 0.25, marker = 'x', c = 'red', s = 100)\n",
    "\n",
    "plot_cc = axs[1].scatter(idcs.flatten(), sars.flatten(), \n",
    "                         c = cc.flatten(), alpha = 0.5)\n",
    "axs[1].set_xlabel(r'$I$')\n",
    "axs[1].set_ylabel(r'$\\rm SAR$')\n",
    "axs[1].set_aspect('equal')\n",
    "fig.colorbar(plot_cc, ax = axs[1])\n",
    "axs[1].set_title(r'$\\beta_C$', loc = 'left')\n",
    "axs[1].scatter(0.05, 0.25, marker = 'x', c = 'red', s = 100)\n",
    "axs[1].scatter(0.1, 0.25, marker = 'x', c = 'red', s = 100)\n",
    "axs[1].scatter(0.3, 0.25, marker = 'x', c = 'red', s = 100)\n",
    "\n",
    "plt.savefig('plots/prp_vs_sar.png', transparent = True, dpi = 300)"
   ]
  },
  {
   "cell_type": "code",
   "execution_count": 22,
   "id": "fbd501c4-12bc-42e6-b375-8e0091da7e06",
   "metadata": {},
   "outputs": [
    {
     "name": "stdout",
     "output_type": "stream",
     "text": [
      "0 10 20 30 40 50 60 70 80 90 100 110 120 130 140 150 160 170 180 190 200 210 220 230 240 250 260 270 280 290 300 310 320 330 340 350 360 CPU times: user 48.4 s, sys: 5.26 ms, total: 48.4 s\n",
      "Wall time: 49.2 s\n"
     ]
    },
    {
     "data": {
      "text/html": [
       "<div>\n",
       "<style scoped>\n",
       "    .dataframe tbody tr th:only-of-type {\n",
       "        vertical-align: middle;\n",
       "    }\n",
       "\n",
       "    .dataframe tbody tr th {\n",
       "        vertical-align: top;\n",
       "    }\n",
       "\n",
       "    .dataframe thead th {\n",
       "        text-align: right;\n",
       "    }\n",
       "</style>\n",
       "<table border=\"1\" class=\"dataframe\">\n",
       "  <thead>\n",
       "    <tr style=\"text-align: right;\">\n",
       "      <th></th>\n",
       "      <th>ID</th>\n",
       "      <th>SIZE</th>\n",
       "      <th>HH</th>\n",
       "      <th>TYPE</th>\n",
       "      <th>TIME</th>\n",
       "    </tr>\n",
       "  </thead>\n",
       "  <tbody>\n",
       "    <tr>\n",
       "      <th>0</th>\n",
       "      <td>0</td>\n",
       "      <td>5</td>\n",
       "      <td>0</td>\n",
       "      <td>0</td>\n",
       "      <td>0.0</td>\n",
       "    </tr>\n",
       "    <tr>\n",
       "      <th>1</th>\n",
       "      <td>1</td>\n",
       "      <td>5</td>\n",
       "      <td>0</td>\n",
       "      <td>NaN</td>\n",
       "      <td>NaN</td>\n",
       "    </tr>\n",
       "    <tr>\n",
       "      <th>2</th>\n",
       "      <td>2</td>\n",
       "      <td>5</td>\n",
       "      <td>0</td>\n",
       "      <td>NaN</td>\n",
       "      <td>NaN</td>\n",
       "    </tr>\n",
       "    <tr>\n",
       "      <th>3</th>\n",
       "      <td>3</td>\n",
       "      <td>5</td>\n",
       "      <td>0</td>\n",
       "      <td>NaN</td>\n",
       "      <td>NaN</td>\n",
       "    </tr>\n",
       "    <tr>\n",
       "      <th>4</th>\n",
       "      <td>4</td>\n",
       "      <td>5</td>\n",
       "      <td>0</td>\n",
       "      <td>NaN</td>\n",
       "      <td>NaN</td>\n",
       "    </tr>\n",
       "    <tr>\n",
       "      <th>...</th>\n",
       "      <td>...</td>\n",
       "      <td>...</td>\n",
       "      <td>...</td>\n",
       "      <td>...</td>\n",
       "      <td>...</td>\n",
       "    </tr>\n",
       "    <tr>\n",
       "      <th>995</th>\n",
       "      <td>995</td>\n",
       "      <td>6</td>\n",
       "      <td>226</td>\n",
       "      <td>NaN</td>\n",
       "      <td>NaN</td>\n",
       "    </tr>\n",
       "    <tr>\n",
       "      <th>996</th>\n",
       "      <td>996</td>\n",
       "      <td>6</td>\n",
       "      <td>226</td>\n",
       "      <td>NaN</td>\n",
       "      <td>NaN</td>\n",
       "    </tr>\n",
       "    <tr>\n",
       "      <th>997</th>\n",
       "      <td>997</td>\n",
       "      <td>6</td>\n",
       "      <td>226</td>\n",
       "      <td>NaN</td>\n",
       "      <td>NaN</td>\n",
       "    </tr>\n",
       "    <tr>\n",
       "      <th>998</th>\n",
       "      <td>998</td>\n",
       "      <td>6</td>\n",
       "      <td>226</td>\n",
       "      <td>NaN</td>\n",
       "      <td>NaN</td>\n",
       "    </tr>\n",
       "    <tr>\n",
       "      <th>999</th>\n",
       "      <td>999</td>\n",
       "      <td>6</td>\n",
       "      <td>226</td>\n",
       "      <td>NaN</td>\n",
       "      <td>NaN</td>\n",
       "    </tr>\n",
       "  </tbody>\n",
       "</table>\n",
       "<p>1000 rows × 5 columns</p>\n",
       "</div>"
      ],
      "text/plain": [
       "      ID  SIZE   HH TYPE  TIME\n",
       "0      0     5    0    0   0.0\n",
       "1      1     5    0  NaN   NaN\n",
       "2      2     5    0  NaN   NaN\n",
       "3      3     5    0  NaN   NaN\n",
       "4      4     5    0  NaN   NaN\n",
       "..   ...   ...  ...  ...   ...\n",
       "995  995     6  226  NaN   NaN\n",
       "996  996     6  226  NaN   NaN\n",
       "997  997     6  226  NaN   NaN\n",
       "998  998     6  226  NaN   NaN\n",
       "999  999     6  226  NaN   NaN\n",
       "\n",
       "[1000 rows x 5 columns]"
      ]
     },
     "execution_count": 22,
     "metadata": {},
     "output_type": "execute_result"
    }
   ],
   "source": [
    "%%time\n",
    "SEIR(beta_H, beta_C, inc, inf)"
   ]
  },
  {
   "cell_type": "code",
   "execution_count": 25,
   "id": "29b68760-8e8f-4bf3-916c-2131e38639c1",
   "metadata": {},
   "outputs": [
    {
     "data": {
      "text/plain": [
       "(26.210651842940592, 0.11921066815772194)"
      ]
     },
     "execution_count": 25,
     "metadata": {},
     "output_type": "execute_result"
    }
   ],
   "source": [
    "beta_H, beta_C"
   ]
  },
  {
   "cell_type": "code",
   "execution_count": 14,
   "id": "b65837dc-364d-49a1-9c63-6132a46df657",
   "metadata": {},
   "outputs": [
    {
     "name": "stdout",
     "output_type": "stream",
     "text": [
      "0 0 10 20 30 40 50 60 70 80 90 100 110 120 130 140 150 160 170 180 190 200 210 220 230 240 250 260 270 280 290 300 310 320 330 340 350 360 \n",
      "1 0 10 20 30 40 50 60 70 80 90 100 110 120 130 140 150 160 170 180 190 200 210 220 230 240 250 260 270 280 290 300 310 320 330 340 350 360 \n",
      "2 0 10 20 30 40 50 60 70 80 90 100 110 120 130 140 150 160 170 180 190 200 210 220 230 240 250 260 270 280 290 300 310 320 330 340 350 360 \n",
      "3 0 10 20 30 40 50 60 70 80 90 100 110 120 130 140 150 160 170 180 190 200 210 220 230 240 250 260 270 280 290 300 310 320 330 340 350 360 \n",
      "4 0 10 20 30 40 50 60 70 80 90 100 110 120 130 140 150 160 170 180 190 200 210 220 230 240 250 260 270 280 290 300 310 320 330 340 350 360 \n",
      "5 0 10 20 30 40 50 60 70 80 90 100 110 120 130 140 150 160 170 180 190 200 210 220 230 240 250 260 270 280 290 300 310 320 330 340 350 360 \n",
      "6 0 10 20 30 40 50 60 70 80 90 100 110 120 130 140 150 160 170 180 190 200 210 220 230 240 250 260 270 280 290 300 310 320 330 340 350 360 \n",
      "7 0 10 20 30 40 50 60 70 80 90 100 110 120 130 140 150 160 170 180 190 200 210 220 230 240 250 260 270 280 290 300 310 320 330 340 350 360 \n",
      "8 0 10 20 30 40 50 60 70 80 90 100 110 120 130 140 150 160 170 180 190 200 210 220 230 240 250 260 270 280 290 300 310 320 330 340 350 360 \n",
      "9 0 10 20 30 40 50 60 70 80 90 100 110 120 130 140 150 160 170 180 190 200 210 220 230 240 250 260 270 280 290 300 310 320 330 340 350 360 \n",
      "10 0 10 20 30 40 50 60 70 80 90 100 110 120 130 140 150 160 170 180 190 200 210 220 230 240 250 260 270 280 290 300 310 320 330 340 350 360 \n",
      "11 0 10 20 30 40 50 60 70 80 90 100 110 120 130 140 150 160 170 180 190 200 210 220 230 240 250 260 270 280 290 300 310 320 330 340 350 360 \n",
      "12 0 10 20 30 40 50 60 70 80 90 100 110 120 130 140 150 160 170 180 190 200 210 220 230 240 250 260 270 280 290 300 310 320 330 340 350 360 \n",
      "13 0 10 20 30 40 50 60 70 80 90 100 110 120 130 140 150 160 170 180 190 200 210 220 230 240 250 260 270 280 290 300 310 320 330 340 350 360 \n",
      "14 0 10 20 30 40 50 60 70 80 90 100 110 120 130 140 150 160 170 180 190 200 210 220 230 240 250 260 270 280 290 300 310 320 330 340 350 360 \n",
      "15 0 10 20 30 40 50 60 70 80 90 100 110 120 130 140 150 160 170 180 190 200 210 220 230 240 250 260 270 280 290 300 310 320 330 340 350 360 \n",
      "16 0 10 20 30 40 50 60 70 80 90 100 110 120 130 140 150 160 170 180 190 200 210 220 230 240 250 260 270 280 290 300 310 320 330 340 350 360 \n",
      "17 0 10 20 30 40 50 60 70 80 90 100 110 120 130 140 150 160 170 180 190 200 210 220 230 240 250 260 270 280 290 300 310 320 330 340 350 360 \n",
      "18 0 10 20 30 40 50 60 70 80 90 100 110 120 130 140 150 160 170 180 190 200 210 220 230 240 250 260 270 280 290 300 310 320 330 340 350 360 \n",
      "19 0 10 20 30 40 50 60 70 80 90 100 110 120 130 140 150 160 170 180 190 200 210 220 230 240 250 260 270 280 290 300 310 320 330 340 350 360 \n",
      "20 0 10 20 30 40 50 60 70 80 90 100 110 120 130 140 150 160 170 180 190 200 210 220 230 240 250 260 270 280 290 300 310 320 330 340 350 360 \n",
      "21 0 10 20 30 40 50 60 70 80 90 100 110 120 130 140 150 160 170 180 190 200 210 220 230 240 250 260 270 280 290 300 310 320 330 340 350 360 \n",
      "22 0 10 20 30 40 50 60 70 80 90 100 110 120 130 140 150 160 170 180 190 200 210 220 230 240 250 260 270 280 290 300 310 320 330 340 350 360 \n",
      "23 0 10 20 30 40 50 60 70 80 90 100 110 120 130 140 150 160 170 180 190 200 210 220 230 240 250 260 270 280 290 300 310 320 330 340 350 360 \n",
      "24 0 10 20 30 40 50 60 70 80 90 100 110 120 130 140 150 160 170 180 190 200 210 220 230 240 250 260 270 280 290 300 310 320 330 340 350 360 \n"
     ]
    }
   ],
   "source": [
    "n = 25\n",
    "sars = [None]*n\n",
    "idcs = [None]*n\n",
    "for i in range(n):\n",
    "    print(i, end = ' ')\n",
    "    results = SEIR(beta_H, beta_C, inc, inf)\n",
    "    idc, sar = metrics(results)\n",
    "    idcs[i] = idc\n",
    "    sars[i] = sar\n",
    "    print()"
   ]
  },
  {
   "cell_type": "code",
   "execution_count": 18,
   "id": "4953d591-32b6-4902-b11c-3900d706953b",
   "metadata": {},
   "outputs": [
    {
     "data": {
      "text/plain": [
       "0.09128"
      ]
     },
     "execution_count": 18,
     "metadata": {},
     "output_type": "execute_result"
    }
   ],
   "source": [
    "np.mean(idcs)"
   ]
  },
  {
   "cell_type": "code",
   "execution_count": 15,
   "id": "7da42852-2339-40a8-bce2-ee14027e7501",
   "metadata": {},
   "outputs": [
    {
     "data": {
      "text/plain": [
       "(array([14.,  3.,  1.,  1.,  2.,  0.,  1.,  1.,  0.,  2.]),\n",
       " array([0.001 , 0.0421, 0.0832, 0.1243, 0.1654, 0.2065, 0.2476, 0.2887,\n",
       "        0.3298, 0.3709, 0.412 ]),\n",
       " <a list of 10 Patch objects>)"
      ]
     },
     "execution_count": 15,
     "metadata": {},
     "output_type": "execute_result"
    },
    {
     "data": {
      "image/png": "[encoded data removed]",
      "text/plain": [
       "<Figure size 432x288 with 1 Axes>"
      ]
     },
     "metadata": {
      "needs_background": "light"
     },
     "output_type": "display_data"
    }
   ],
   "source": [
    "plt.hist(idcs, alpha = 0.5)"
   ]
  },
  {
   "cell_type": "code",
   "execution_count": 19,
   "id": "d084053c-9a81-4cbb-b2a1-9ec63f393ac7",
   "metadata": {},
   "outputs": [
    {
     "data": {
      "text/plain": [
       "0.24327622289771203"
      ]
     },
     "execution_count": 19,
     "metadata": {},
     "output_type": "execute_result"
    }
   ],
   "source": [
    "np.mean(sars)"
   ]
  },
  {
   "cell_type": "code",
   "execution_count": 16,
   "id": "1aa35ff7-0606-4a14-be7e-2bde6b747c6f",
   "metadata": {},
   "outputs": [
    {
     "data": {
      "text/plain": [
       "(array([ 3.,  1., 10.,  6.,  2.,  0.,  2.,  0.,  0.,  1.]),\n",
       " array([0.  , 0.08, 0.16, 0.24, 0.32, 0.4 , 0.48, 0.56, 0.64, 0.72, 0.8 ]),\n",
       " <a list of 10 Patch objects>)"
      ]
     },
     "execution_count": 16,
     "metadata": {},
     "output_type": "execute_result"
    },
    {
     "data": {
      "image/png": "[encoded data removed]",
      "text/plain": [
       "<Figure size 432x288 with 1 Axes>"
      ]
     },
     "metadata": {
      "needs_background": "light"
     },
     "output_type": "display_data"
    }
   ],
   "source": [
    "plt.hist(sars, alpha = 0.5)"
   ]
  },
  {
   "cell_type": "code",
   "execution_count": 26,
   "id": "84478c03-fc8b-4a0c-8997-dc2945376da7",
   "metadata": {},
   "outputs": [
    {
     "data": {
      "text/plain": [
       "array([[30.        ,  0.12      ],\n",
       "       [29.03715339,  0.13167389],\n",
       "       [29.03715339,  0.13167389],\n",
       "       ...,\n",
       "       [47.1427555 ,  0.74216538],\n",
       "       [48.43066333,  0.74830859],\n",
       "       [48.24476865,  0.72258578]])"
      ]
     },
     "execution_count": 26,
     "metadata": {},
     "output_type": "execute_result"
    }
   ],
   "source": [
    "chain"
   ]
  },
  {
   "cell_type": "code",
   "execution_count": 28,
   "id": "0114acbc-c12c-4963-84c7-a95ba2636cba",
   "metadata": {},
   "outputs": [
    {
     "data": {
      "text/plain": [
       "(1763,)"
      ]
     },
     "execution_count": 28,
     "metadata": {},
     "output_type": "execute_result"
    }
   ],
   "source": [
    "np.unique(chain).shape"
   ]
  },
  {
   "cell_type": "code",
   "execution_count": 31,
   "id": "f8853bd6-4bde-4043-bb29-68e28ee77ab3",
   "metadata": {},
   "outputs": [
    {
     "data": {
      "text/plain": [
       "2002"
      ]
     },
     "execution_count": 31,
     "metadata": {},
     "output_type": "execute_result"
    }
   ],
   "source": [
    "np.prod(chain.shape)"
   ]
  }
 ],
 "metadata": {
  "kernelspec": {
   "display_name": "Python 3 (ipykernel)",
   "language": "python",
   "name": "python3"
  },
  "language_info": {
   "codemirror_mode": {
    "name": "ipython",
    "version": 3
   },
   "file_extension": ".py",
   "mimetype": "text/x-python",
   "name": "python",
   "nbconvert_exporter": "python",
   "pygments_lexer": "ipython3",
   "version": "3.8.12"
  }
 },
 "nbformat": 4,
 "nbformat_minor": 5
}
